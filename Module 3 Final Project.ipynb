{
 "cells": [
  {
   "cell_type": "markdown",
   "id": "incredible-championship",
   "metadata": {},
   "source": [
    "\n",
    "## Final Project Submission\n",
    "Please fill out:\n",
    "* Student name: Justin Grisanti\n",
    "* Student pace: self-paced\n",
    "* Scheduled project review date/time: 1/5/2022 @ 2pm\n",
    "* Instructor name: Claude Fried\n",
    "* Blog post URL: https://justingrisanti.github.io/predicting_rain_patterns_in_australia\n",
    "\n",
    "Total Time to Run: approx. 27 minutes"
   ]
  },
  {
   "cell_type": "markdown",
   "id": "structural-convention",
   "metadata": {},
   "source": [
    "# Section 1: Business Understanding"
   ]
  },
  {
   "cell_type": "markdown",
   "id": "agricultural-context",
   "metadata": {},
   "source": [
    "The purpose of this section is to define the business problem and understand the stakeholders for the work that I am performing. The Bureau of Meteorology is responsible for predicting weather patterns throughout the entire Australian region. According to their website, their forecast accuracy for rain varies much more than their forecasts for temperature and wind. \n",
    "\n",
    "According to their analyses, they've underpredicted rainfall each year for the past five years. The goal is to create a classification model that allows the Bureau of Meteorology to improve their predictions of whether or not it will rain the next day. This will allow them to inform the public better so that citizens can prepare accordingly for the possibility of rain. \n",
    "\n",
    "The stakeholders of this project are the Bureau of Meteorology and citizens of Australia.\n",
    "\n",
    "The main purpose of this classification model is predictive, meaning that given charactaristics of rain data on a given day, the model should be able to predict whether it will rain the next day or not. My model is not meant to replace the Bureau of Meteorology's current system of predicting rain for the region of Australia, however, it is meant serve as an input to strengthen their predictions and assumptions, and to reduce the risk of failing to predict that it will rain the next day."
   ]
  },
  {
   "cell_type": "markdown",
   "id": "industrial-liechtenstein",
   "metadata": {},
   "source": [
    "# Section 2: Data Understanding"
   ]
  },
  {
   "cell_type": "markdown",
   "id": "imperial-merchandise",
   "metadata": {},
   "source": [
    "After scanning the data, we have weather-related information for a period of 12/1/2008 to 6/25/2017—8 years, 6 months and 24 days worth of data.\n",
    "\n",
    "As shown below, this data has many different weather-related metrics, such as the wind speed, humidity, pressure, whether it was sunny or cloudy, and temperature. These seem like appropriate parameters to run a classification-based model in order to predict whether or not it will rain the next day, and I do not sense any limitations from this data."
   ]
  },
  {
   "cell_type": "code",
   "execution_count": 1,
   "id": "horizontal-blocking",
   "metadata": {},
   "outputs": [],
   "source": [
    "# Import Libraries\n",
    "\n",
    "import pandas as pd\n",
    "import numpy as np\n",
    "import matplotlib.pyplot as plt\n",
    "%matplotlib inline\n",
    "from sklearn import tree\n",
    "from sklearn.preprocessing import StandardScaler, OneHotEncoder\n",
    "from sklearn.impute import SimpleImputer\n",
    "from sklearn.neighbors import KNeighborsClassifier\n",
    "from sklearn.pipeline import Pipeline\n",
    "from sklearn.model_selection import train_test_split, GridSearchCV, cross_val_score\n",
    "from sklearn.tree import DecisionTreeClassifier\n",
    "from sklearn.ensemble import RandomForestClassifier, AdaBoostClassifier\n",
    "from sklearn.metrics import accuracy_score\n",
    "from sklearn.impute import SimpleImputer\n",
    "from sklearn.metrics import make_scorer, classification_report, log_loss, f1_score, accuracy_score, precision_score, recall_score, confusion_matrix, plot_confusion_matrix, auc, roc_curve\n",
    "from sklearn.model_selection import StratifiedKFold, cross_val_score\n",
    "from sklearn.base import clone\n",
    "from sklearn.linear_model import LogisticRegression\n",
    "from sklearn.neighbors import KNeighborsClassifier\n",
    "import statsmodels as sm\n",
    "import sklearn.preprocessing as preprocessing\n",
    "from scipy import stats\n",
    "import seaborn as sns\n",
    "from imblearn.over_sampling import SMOTE\n",
    "\n",
    "import warnings\n",
    "warnings.filterwarnings('ignore')"
   ]
  },
  {
   "cell_type": "code",
   "execution_count": 2,
   "id": "38fbfb6c",
   "metadata": {},
   "outputs": [],
   "source": [
    "# Import data from csv\n",
    "\n",
    "rain_data = pd.read_csv('data/WeatherAUS.csv')"
   ]
  },
  {
   "cell_type": "code",
   "execution_count": 3,
   "id": "fifteen-sociology",
   "metadata": {},
   "outputs": [
    {
     "name": "stdout",
     "output_type": "stream",
     "text": [
      "<class 'pandas.core.frame.DataFrame'>\n",
      "RangeIndex: 145460 entries, 0 to 145459\n",
      "Data columns (total 23 columns):\n",
      " #   Column         Non-Null Count   Dtype  \n",
      "---  ------         --------------   -----  \n",
      " 0   Date           145460 non-null  object \n",
      " 1   Location       145460 non-null  object \n",
      " 2   MinTemp        143975 non-null  float64\n",
      " 3   MaxTemp        144199 non-null  float64\n",
      " 4   Rainfall       142199 non-null  float64\n",
      " 5   Evaporation    82670 non-null   float64\n",
      " 6   Sunshine       75625 non-null   float64\n",
      " 7   WindGustDir    135134 non-null  object \n",
      " 8   WindGustSpeed  135197 non-null  float64\n",
      " 9   WindDir9am     134894 non-null  object \n",
      " 10  WindDir3pm     141232 non-null  object \n",
      " 11  WindSpeed9am   143693 non-null  float64\n",
      " 12  WindSpeed3pm   142398 non-null  float64\n",
      " 13  Humidity9am    142806 non-null  float64\n",
      " 14  Humidity3pm    140953 non-null  float64\n",
      " 15  Pressure9am    130395 non-null  float64\n",
      " 16  Pressure3pm    130432 non-null  float64\n",
      " 17  Cloud9am       89572 non-null   float64\n",
      " 18  Cloud3pm       86102 non-null   float64\n",
      " 19  Temp9am        143693 non-null  float64\n",
      " 20  Temp3pm        141851 non-null  float64\n",
      " 21  RainToday      142199 non-null  object \n",
      " 22  RainTomorrow   142193 non-null  object \n",
      "dtypes: float64(16), object(7)\n",
      "memory usage: 25.5+ MB\n"
     ]
    }
   ],
   "source": [
    "rain_data.info()"
   ]
  },
  {
   "cell_type": "markdown",
   "id": "f989f3af",
   "metadata": {},
   "source": [
    "Please see the following column descriptions:\n",
    "\n",
    "> **MinTemp:** The minimum temperature in degrees celsius\n",
    "\n",
    ">**MaxTemp:** The maximum temperature in degrees celsius\n",
    "\n",
    ">**Rainfall:** The amount of rainfall recorded for the day in mm\n",
    "\n",
    ">**Evaporation:** The so-called Class A pan evaporation (mm) in the 24 hours to 9am\n",
    "\n",
    ">**Sunshine:** The number of hours of bright sunshine in the day.\n",
    "\n",
    ">**WindGustDir:** The direction of the strongest wind gust in the 24 hours to midnight\n",
    "\n",
    ">**WindGustSpeed:** The speed (km/h) of the strongest wind gust in the 24 hours to midnight\n",
    "\n",
    ">**WindDir9am:** Direction of the wind at 9am\n",
    "\n",
    ">**WindDir3pm:** Direction of the wind at 3pm\n",
    "\n",
    ">**WindSpeed9am:** Wind speed (km/hr) averaged over 10 minutes prior to 9am\n",
    "\n",
    ">**WindSpeed3pm:** Wind speed (km/hr) averaged over 10 minutes prior to 3pm\n",
    "\n",
    ">**Humidity9am:** Humidity (percent) at 9am\n",
    "\n",
    ">**Humidity3pm:** Humidity (percent) at 3pm\n",
    "\n",
    ">**Pressure9am:** Atmospheric pressure (hpa) reduced to mean sea level at 9am\n",
    "\n",
    ">**Pressure3pm:** Atmospheric pressure (hpa) reduced to mean sea level at 3pm\n",
    "\n",
    ">**Cloud9am:** Fraction of sky obscured by cloud at 9am. This is measured in \"oktas\", which are a unit of eigths. It records how many eigths of the sky are obscured by cloud. A 0 measure indicates completely clear sky whilst an 8 indicates that it is completely overcast.\n",
    "\n",
    ">**Cloud3pm:** Fraction of sky obscured by cloud (in \"oktas\": eighths) at 3pm. See Cload9am for a description of the values\n",
    "\n",
    ">**Temp9am:** Temperature (degrees C) at 9am\n",
    "\n",
    ">**Temp3pm:** Temperature (degrees C) at 3pm\n",
    "\n",
    ">**RainToday:** Boolean: 1 if precipitation (mm) in the 24 hours to 9am exceeds 1mm, otherwise 0\n",
    "\n",
    ">**RainTomorrow:** The amount of next day rain in mm. Used to create response variable RainTomorrow. A kind of measure of the \"risk\".\n"
   ]
  },
  {
   "cell_type": "code",
   "execution_count": 4,
   "id": "falling-moore",
   "metadata": {
    "scrolled": true
   },
   "outputs": [
    {
     "data": {
      "text/html": [
       "<div>\n",
       "<style scoped>\n",
       "    .dataframe tbody tr th:only-of-type {\n",
       "        vertical-align: middle;\n",
       "    }\n",
       "\n",
       "    .dataframe tbody tr th {\n",
       "        vertical-align: top;\n",
       "    }\n",
       "\n",
       "    .dataframe thead th {\n",
       "        text-align: right;\n",
       "    }\n",
       "</style>\n",
       "<table border=\"1\" class=\"dataframe\">\n",
       "  <thead>\n",
       "    <tr style=\"text-align: right;\">\n",
       "      <th></th>\n",
       "      <th>Date</th>\n",
       "      <th>Location</th>\n",
       "      <th>MinTemp</th>\n",
       "      <th>MaxTemp</th>\n",
       "      <th>Rainfall</th>\n",
       "      <th>Evaporation</th>\n",
       "      <th>Sunshine</th>\n",
       "      <th>WindGustDir</th>\n",
       "      <th>WindGustSpeed</th>\n",
       "      <th>WindDir9am</th>\n",
       "      <th>WindDir3pm</th>\n",
       "      <th>WindSpeed9am</th>\n",
       "      <th>WindSpeed3pm</th>\n",
       "      <th>Humidity9am</th>\n",
       "      <th>Humidity3pm</th>\n",
       "      <th>Pressure9am</th>\n",
       "      <th>Pressure3pm</th>\n",
       "      <th>Cloud9am</th>\n",
       "      <th>Cloud3pm</th>\n",
       "      <th>Temp9am</th>\n",
       "      <th>Temp3pm</th>\n",
       "      <th>RainToday</th>\n",
       "      <th>RainTomorrow</th>\n",
       "    </tr>\n",
       "  </thead>\n",
       "  <tbody>\n",
       "    <tr>\n",
       "      <th>0</th>\n",
       "      <td>2008-12-01</td>\n",
       "      <td>Albury</td>\n",
       "      <td>13.4</td>\n",
       "      <td>22.9</td>\n",
       "      <td>0.6</td>\n",
       "      <td>NaN</td>\n",
       "      <td>NaN</td>\n",
       "      <td>W</td>\n",
       "      <td>44.0</td>\n",
       "      <td>W</td>\n",
       "      <td>WNW</td>\n",
       "      <td>20.0</td>\n",
       "      <td>24.0</td>\n",
       "      <td>71.0</td>\n",
       "      <td>22.0</td>\n",
       "      <td>1007.7</td>\n",
       "      <td>1007.1</td>\n",
       "      <td>8.0</td>\n",
       "      <td>NaN</td>\n",
       "      <td>16.9</td>\n",
       "      <td>21.8</td>\n",
       "      <td>No</td>\n",
       "      <td>No</td>\n",
       "    </tr>\n",
       "    <tr>\n",
       "      <th>1</th>\n",
       "      <td>2008-12-02</td>\n",
       "      <td>Albury</td>\n",
       "      <td>7.4</td>\n",
       "      <td>25.1</td>\n",
       "      <td>0.0</td>\n",
       "      <td>NaN</td>\n",
       "      <td>NaN</td>\n",
       "      <td>WNW</td>\n",
       "      <td>44.0</td>\n",
       "      <td>NNW</td>\n",
       "      <td>WSW</td>\n",
       "      <td>4.0</td>\n",
       "      <td>22.0</td>\n",
       "      <td>44.0</td>\n",
       "      <td>25.0</td>\n",
       "      <td>1010.6</td>\n",
       "      <td>1007.8</td>\n",
       "      <td>NaN</td>\n",
       "      <td>NaN</td>\n",
       "      <td>17.2</td>\n",
       "      <td>24.3</td>\n",
       "      <td>No</td>\n",
       "      <td>No</td>\n",
       "    </tr>\n",
       "    <tr>\n",
       "      <th>2</th>\n",
       "      <td>2008-12-03</td>\n",
       "      <td>Albury</td>\n",
       "      <td>12.9</td>\n",
       "      <td>25.7</td>\n",
       "      <td>0.0</td>\n",
       "      <td>NaN</td>\n",
       "      <td>NaN</td>\n",
       "      <td>WSW</td>\n",
       "      <td>46.0</td>\n",
       "      <td>W</td>\n",
       "      <td>WSW</td>\n",
       "      <td>19.0</td>\n",
       "      <td>26.0</td>\n",
       "      <td>38.0</td>\n",
       "      <td>30.0</td>\n",
       "      <td>1007.6</td>\n",
       "      <td>1008.7</td>\n",
       "      <td>NaN</td>\n",
       "      <td>2.0</td>\n",
       "      <td>21.0</td>\n",
       "      <td>23.2</td>\n",
       "      <td>No</td>\n",
       "      <td>No</td>\n",
       "    </tr>\n",
       "    <tr>\n",
       "      <th>3</th>\n",
       "      <td>2008-12-04</td>\n",
       "      <td>Albury</td>\n",
       "      <td>9.2</td>\n",
       "      <td>28.0</td>\n",
       "      <td>0.0</td>\n",
       "      <td>NaN</td>\n",
       "      <td>NaN</td>\n",
       "      <td>NE</td>\n",
       "      <td>24.0</td>\n",
       "      <td>SE</td>\n",
       "      <td>E</td>\n",
       "      <td>11.0</td>\n",
       "      <td>9.0</td>\n",
       "      <td>45.0</td>\n",
       "      <td>16.0</td>\n",
       "      <td>1017.6</td>\n",
       "      <td>1012.8</td>\n",
       "      <td>NaN</td>\n",
       "      <td>NaN</td>\n",
       "      <td>18.1</td>\n",
       "      <td>26.5</td>\n",
       "      <td>No</td>\n",
       "      <td>No</td>\n",
       "    </tr>\n",
       "    <tr>\n",
       "      <th>4</th>\n",
       "      <td>2008-12-05</td>\n",
       "      <td>Albury</td>\n",
       "      <td>17.5</td>\n",
       "      <td>32.3</td>\n",
       "      <td>1.0</td>\n",
       "      <td>NaN</td>\n",
       "      <td>NaN</td>\n",
       "      <td>W</td>\n",
       "      <td>41.0</td>\n",
       "      <td>ENE</td>\n",
       "      <td>NW</td>\n",
       "      <td>7.0</td>\n",
       "      <td>20.0</td>\n",
       "      <td>82.0</td>\n",
       "      <td>33.0</td>\n",
       "      <td>1010.8</td>\n",
       "      <td>1006.0</td>\n",
       "      <td>7.0</td>\n",
       "      <td>8.0</td>\n",
       "      <td>17.8</td>\n",
       "      <td>29.7</td>\n",
       "      <td>No</td>\n",
       "      <td>No</td>\n",
       "    </tr>\n",
       "  </tbody>\n",
       "</table>\n",
       "</div>"
      ],
      "text/plain": [
       "         Date Location  MinTemp  MaxTemp  Rainfall  Evaporation  Sunshine  \\\n",
       "0  2008-12-01   Albury     13.4     22.9       0.6          NaN       NaN   \n",
       "1  2008-12-02   Albury      7.4     25.1       0.0          NaN       NaN   \n",
       "2  2008-12-03   Albury     12.9     25.7       0.0          NaN       NaN   \n",
       "3  2008-12-04   Albury      9.2     28.0       0.0          NaN       NaN   \n",
       "4  2008-12-05   Albury     17.5     32.3       1.0          NaN       NaN   \n",
       "\n",
       "  WindGustDir  WindGustSpeed WindDir9am WindDir3pm  WindSpeed9am  \\\n",
       "0           W           44.0          W        WNW          20.0   \n",
       "1         WNW           44.0        NNW        WSW           4.0   \n",
       "2         WSW           46.0          W        WSW          19.0   \n",
       "3          NE           24.0         SE          E          11.0   \n",
       "4           W           41.0        ENE         NW           7.0   \n",
       "\n",
       "   WindSpeed3pm  Humidity9am  Humidity3pm  Pressure9am  Pressure3pm  Cloud9am  \\\n",
       "0          24.0         71.0         22.0       1007.7       1007.1       8.0   \n",
       "1          22.0         44.0         25.0       1010.6       1007.8       NaN   \n",
       "2          26.0         38.0         30.0       1007.6       1008.7       NaN   \n",
       "3           9.0         45.0         16.0       1017.6       1012.8       NaN   \n",
       "4          20.0         82.0         33.0       1010.8       1006.0       7.0   \n",
       "\n",
       "   Cloud3pm  Temp9am  Temp3pm RainToday RainTomorrow  \n",
       "0       NaN     16.9     21.8        No           No  \n",
       "1       NaN     17.2     24.3        No           No  \n",
       "2       2.0     21.0     23.2        No           No  \n",
       "3       NaN     18.1     26.5        No           No  \n",
       "4       8.0     17.8     29.7        No           No  "
      ]
     },
     "execution_count": 4,
     "metadata": {},
     "output_type": "execute_result"
    }
   ],
   "source": [
    "# To show all columns and rows\n",
    "\n",
    "pd.set_option('display.max_columns', None)\n",
    "pd.set_option('display.max_rows', None)\n",
    "\n",
    "rain_data.head()"
   ]
  },
  {
   "cell_type": "code",
   "execution_count": 5,
   "id": "881989da",
   "metadata": {
    "scrolled": true
   },
   "outputs": [
    {
     "data": {
      "text/html": [
       "<div>\n",
       "<style scoped>\n",
       "    .dataframe tbody tr th:only-of-type {\n",
       "        vertical-align: middle;\n",
       "    }\n",
       "\n",
       "    .dataframe tbody tr th {\n",
       "        vertical-align: top;\n",
       "    }\n",
       "\n",
       "    .dataframe thead th {\n",
       "        text-align: right;\n",
       "    }\n",
       "</style>\n",
       "<table border=\"1\" class=\"dataframe\">\n",
       "  <thead>\n",
       "    <tr style=\"text-align: right;\">\n",
       "      <th></th>\n",
       "      <th>Date</th>\n",
       "      <th>Location</th>\n",
       "      <th>MinTemp</th>\n",
       "      <th>MaxTemp</th>\n",
       "      <th>Rainfall</th>\n",
       "      <th>Evaporation</th>\n",
       "      <th>Sunshine</th>\n",
       "      <th>WindGustDir</th>\n",
       "      <th>WindGustSpeed</th>\n",
       "      <th>WindDir9am</th>\n",
       "      <th>WindDir3pm</th>\n",
       "      <th>WindSpeed9am</th>\n",
       "      <th>WindSpeed3pm</th>\n",
       "      <th>Humidity9am</th>\n",
       "      <th>Humidity3pm</th>\n",
       "      <th>Pressure9am</th>\n",
       "      <th>Pressure3pm</th>\n",
       "      <th>Cloud9am</th>\n",
       "      <th>Cloud3pm</th>\n",
       "      <th>Temp9am</th>\n",
       "      <th>Temp3pm</th>\n",
       "      <th>RainToday</th>\n",
       "      <th>RainTomorrow</th>\n",
       "    </tr>\n",
       "  </thead>\n",
       "  <tbody>\n",
       "    <tr>\n",
       "      <th>14</th>\n",
       "      <td>2008-12-15</td>\n",
       "      <td>Albury</td>\n",
       "      <td>8.4</td>\n",
       "      <td>24.6</td>\n",
       "      <td>0.0</td>\n",
       "      <td>NaN</td>\n",
       "      <td>NaN</td>\n",
       "      <td>NaN</td>\n",
       "      <td>NaN</td>\n",
       "      <td>S</td>\n",
       "      <td>WNW</td>\n",
       "      <td>4.0</td>\n",
       "      <td>30.0</td>\n",
       "      <td>57.0</td>\n",
       "      <td>32.0</td>\n",
       "      <td>1009.7</td>\n",
       "      <td>1008.7</td>\n",
       "      <td>NaN</td>\n",
       "      <td>NaN</td>\n",
       "      <td>15.9</td>\n",
       "      <td>23.5</td>\n",
       "      <td>No</td>\n",
       "      <td>NaN</td>\n",
       "    </tr>\n",
       "    <tr>\n",
       "      <th>283</th>\n",
       "      <td>2009-09-10</td>\n",
       "      <td>Albury</td>\n",
       "      <td>2.6</td>\n",
       "      <td>NaN</td>\n",
       "      <td>0.0</td>\n",
       "      <td>NaN</td>\n",
       "      <td>NaN</td>\n",
       "      <td>NaN</td>\n",
       "      <td>NaN</td>\n",
       "      <td>E</td>\n",
       "      <td>WNW</td>\n",
       "      <td>6.0</td>\n",
       "      <td>13.0</td>\n",
       "      <td>71.0</td>\n",
       "      <td>55.0</td>\n",
       "      <td>1017.8</td>\n",
       "      <td>1017.6</td>\n",
       "      <td>NaN</td>\n",
       "      <td>6.0</td>\n",
       "      <td>9.7</td>\n",
       "      <td>14.3</td>\n",
       "      <td>No</td>\n",
       "      <td>NaN</td>\n",
       "    </tr>\n",
       "    <tr>\n",
       "      <th>435</th>\n",
       "      <td>2010-02-09</td>\n",
       "      <td>Albury</td>\n",
       "      <td>22.1</td>\n",
       "      <td>35.1</td>\n",
       "      <td>0.0</td>\n",
       "      <td>NaN</td>\n",
       "      <td>NaN</td>\n",
       "      <td>NaN</td>\n",
       "      <td>NaN</td>\n",
       "      <td>ENE</td>\n",
       "      <td>SW</td>\n",
       "      <td>6.0</td>\n",
       "      <td>11.0</td>\n",
       "      <td>58.0</td>\n",
       "      <td>37.0</td>\n",
       "      <td>1020.9</td>\n",
       "      <td>1017.8</td>\n",
       "      <td>NaN</td>\n",
       "      <td>1.0</td>\n",
       "      <td>26.9</td>\n",
       "      <td>33.5</td>\n",
       "      <td>No</td>\n",
       "      <td>NaN</td>\n",
       "    </tr>\n",
       "    <tr>\n",
       "      <th>437</th>\n",
       "      <td>2010-02-11</td>\n",
       "      <td>Albury</td>\n",
       "      <td>21.5</td>\n",
       "      <td>35.0</td>\n",
       "      <td>0.0</td>\n",
       "      <td>NaN</td>\n",
       "      <td>NaN</td>\n",
       "      <td>NaN</td>\n",
       "      <td>NaN</td>\n",
       "      <td>SSE</td>\n",
       "      <td>E</td>\n",
       "      <td>9.0</td>\n",
       "      <td>7.0</td>\n",
       "      <td>76.0</td>\n",
       "      <td>35.0</td>\n",
       "      <td>1015.8</td>\n",
       "      <td>1010.3</td>\n",
       "      <td>NaN</td>\n",
       "      <td>8.0</td>\n",
       "      <td>24.2</td>\n",
       "      <td>33.1</td>\n",
       "      <td>No</td>\n",
       "      <td>NaN</td>\n",
       "    </tr>\n",
       "    <tr>\n",
       "      <th>443</th>\n",
       "      <td>2010-02-17</td>\n",
       "      <td>Albury</td>\n",
       "      <td>15.5</td>\n",
       "      <td>30.6</td>\n",
       "      <td>0.0</td>\n",
       "      <td>NaN</td>\n",
       "      <td>NaN</td>\n",
       "      <td>NaN</td>\n",
       "      <td>NaN</td>\n",
       "      <td>SE</td>\n",
       "      <td>SSW</td>\n",
       "      <td>6.0</td>\n",
       "      <td>11.0</td>\n",
       "      <td>66.0</td>\n",
       "      <td>30.0</td>\n",
       "      <td>1015.9</td>\n",
       "      <td>1013.8</td>\n",
       "      <td>NaN</td>\n",
       "      <td>NaN</td>\n",
       "      <td>19.4</td>\n",
       "      <td>30.0</td>\n",
       "      <td>No</td>\n",
       "      <td>NaN</td>\n",
       "    </tr>\n",
       "  </tbody>\n",
       "</table>\n",
       "</div>"
      ],
      "text/plain": [
       "           Date Location  MinTemp  MaxTemp  Rainfall  Evaporation  Sunshine  \\\n",
       "14   2008-12-15   Albury      8.4     24.6       0.0          NaN       NaN   \n",
       "283  2009-09-10   Albury      2.6      NaN       0.0          NaN       NaN   \n",
       "435  2010-02-09   Albury     22.1     35.1       0.0          NaN       NaN   \n",
       "437  2010-02-11   Albury     21.5     35.0       0.0          NaN       NaN   \n",
       "443  2010-02-17   Albury     15.5     30.6       0.0          NaN       NaN   \n",
       "\n",
       "    WindGustDir  WindGustSpeed WindDir9am WindDir3pm  WindSpeed9am  \\\n",
       "14          NaN            NaN          S        WNW           4.0   \n",
       "283         NaN            NaN          E        WNW           6.0   \n",
       "435         NaN            NaN        ENE         SW           6.0   \n",
       "437         NaN            NaN        SSE          E           9.0   \n",
       "443         NaN            NaN         SE        SSW           6.0   \n",
       "\n",
       "     WindSpeed3pm  Humidity9am  Humidity3pm  Pressure9am  Pressure3pm  \\\n",
       "14           30.0         57.0         32.0       1009.7       1008.7   \n",
       "283          13.0         71.0         55.0       1017.8       1017.6   \n",
       "435          11.0         58.0         37.0       1020.9       1017.8   \n",
       "437           7.0         76.0         35.0       1015.8       1010.3   \n",
       "443          11.0         66.0         30.0       1015.9       1013.8   \n",
       "\n",
       "     Cloud9am  Cloud3pm  Temp9am  Temp3pm RainToday RainTomorrow  \n",
       "14        NaN       NaN     15.9     23.5        No          NaN  \n",
       "283       NaN       6.0      9.7     14.3        No          NaN  \n",
       "435       NaN       1.0     26.9     33.5        No          NaN  \n",
       "437       NaN       8.0     24.2     33.1        No          NaN  \n",
       "443       NaN       NaN     19.4     30.0        No          NaN  "
      ]
     },
     "execution_count": 5,
     "metadata": {},
     "output_type": "execute_result"
    }
   ],
   "source": [
    "rain_data[rain_data['RainTomorrow'].isna()].head()"
   ]
  },
  {
   "cell_type": "code",
   "execution_count": 6,
   "id": "cc0a38b2",
   "metadata": {},
   "outputs": [],
   "source": [
    "rain_data = rain_data.dropna(axis=0, subset = ['RainTomorrow'])"
   ]
  },
  {
   "cell_type": "code",
   "execution_count": 7,
   "id": "071f2304",
   "metadata": {
    "scrolled": true
   },
   "outputs": [
    {
     "name": "stdout",
     "output_type": "stream",
     "text": [
      "<class 'pandas.core.frame.DataFrame'>\n",
      "Int64Index: 142193 entries, 0 to 145458\n",
      "Data columns (total 23 columns):\n",
      " #   Column         Non-Null Count   Dtype  \n",
      "---  ------         --------------   -----  \n",
      " 0   Date           142193 non-null  object \n",
      " 1   Location       142193 non-null  object \n",
      " 2   MinTemp        141556 non-null  float64\n",
      " 3   MaxTemp        141871 non-null  float64\n",
      " 4   Rainfall       140787 non-null  float64\n",
      " 5   Evaporation    81350 non-null   float64\n",
      " 6   Sunshine       74377 non-null   float64\n",
      " 7   WindGustDir    132863 non-null  object \n",
      " 8   WindGustSpeed  132923 non-null  float64\n",
      " 9   WindDir9am     132180 non-null  object \n",
      " 10  WindDir3pm     138415 non-null  object \n",
      " 11  WindSpeed9am   140845 non-null  float64\n",
      " 12  WindSpeed3pm   139563 non-null  float64\n",
      " 13  Humidity9am    140419 non-null  float64\n",
      " 14  Humidity3pm    138583 non-null  float64\n",
      " 15  Pressure9am    128179 non-null  float64\n",
      " 16  Pressure3pm    128212 non-null  float64\n",
      " 17  Cloud9am       88536 non-null   float64\n",
      " 18  Cloud3pm       85099 non-null   float64\n",
      " 19  Temp9am        141289 non-null  float64\n",
      " 20  Temp3pm        139467 non-null  float64\n",
      " 21  RainToday      140787 non-null  object \n",
      " 22  RainTomorrow   142193 non-null  object \n",
      "dtypes: float64(16), object(7)\n",
      "memory usage: 26.0+ MB\n"
     ]
    }
   ],
   "source": [
    "rain_data.info()"
   ]
  },
  {
   "cell_type": "code",
   "execution_count": 8,
   "id": "7d77d9d3",
   "metadata": {},
   "outputs": [],
   "source": [
    "# Separate target variable from data and complete train-test split\n",
    "\n",
    "y = rain_data['RainTomorrow']\n",
    "X = rain_data.drop('RainTomorrow', axis=1)\n",
    "\n",
    "X_train, X_test, y_train, y_test = train_test_split(X, y, random_state=42)"
   ]
  },
  {
   "cell_type": "code",
   "execution_count": 9,
   "id": "399274d5",
   "metadata": {},
   "outputs": [
    {
     "data": {
      "text/html": [
       "<div>\n",
       "<style scoped>\n",
       "    .dataframe tbody tr th:only-of-type {\n",
       "        vertical-align: middle;\n",
       "    }\n",
       "\n",
       "    .dataframe tbody tr th {\n",
       "        vertical-align: top;\n",
       "    }\n",
       "\n",
       "    .dataframe thead th {\n",
       "        text-align: right;\n",
       "    }\n",
       "</style>\n",
       "<table border=\"1\" class=\"dataframe\">\n",
       "  <thead>\n",
       "    <tr style=\"text-align: right;\">\n",
       "      <th></th>\n",
       "      <th>Date</th>\n",
       "      <th>Location</th>\n",
       "      <th>MinTemp</th>\n",
       "      <th>MaxTemp</th>\n",
       "      <th>Rainfall</th>\n",
       "      <th>Evaporation</th>\n",
       "      <th>Sunshine</th>\n",
       "      <th>WindGustDir</th>\n",
       "      <th>WindGustSpeed</th>\n",
       "      <th>WindDir9am</th>\n",
       "      <th>WindDir3pm</th>\n",
       "      <th>WindSpeed9am</th>\n",
       "      <th>WindSpeed3pm</th>\n",
       "      <th>Humidity9am</th>\n",
       "      <th>Humidity3pm</th>\n",
       "      <th>Pressure9am</th>\n",
       "      <th>Pressure3pm</th>\n",
       "      <th>Cloud9am</th>\n",
       "      <th>Cloud3pm</th>\n",
       "      <th>Temp9am</th>\n",
       "      <th>Temp3pm</th>\n",
       "      <th>RainToday</th>\n",
       "    </tr>\n",
       "  </thead>\n",
       "  <tbody>\n",
       "    <tr>\n",
       "      <th>0</th>\n",
       "      <td>2009-04-12</td>\n",
       "      <td>Woomera</td>\n",
       "      <td>14.9</td>\n",
       "      <td>30.3</td>\n",
       "      <td>0.0</td>\n",
       "      <td>7.4</td>\n",
       "      <td>10.9</td>\n",
       "      <td>S</td>\n",
       "      <td>33.0</td>\n",
       "      <td>ESE</td>\n",
       "      <td>SW</td>\n",
       "      <td>15.0</td>\n",
       "      <td>11.0</td>\n",
       "      <td>19.0</td>\n",
       "      <td>12.0</td>\n",
       "      <td>1021.1</td>\n",
       "      <td>1017.8</td>\n",
       "      <td>1.0</td>\n",
       "      <td>1.0</td>\n",
       "      <td>22.2</td>\n",
       "      <td>29.7</td>\n",
       "      <td>No</td>\n",
       "    </tr>\n",
       "    <tr>\n",
       "      <th>1</th>\n",
       "      <td>2014-12-08</td>\n",
       "      <td>Witchcliffe</td>\n",
       "      <td>14.6</td>\n",
       "      <td>21.5</td>\n",
       "      <td>0.2</td>\n",
       "      <td>NaN</td>\n",
       "      <td>NaN</td>\n",
       "      <td>SSE</td>\n",
       "      <td>46.0</td>\n",
       "      <td>S</td>\n",
       "      <td>SSE</td>\n",
       "      <td>26.0</td>\n",
       "      <td>28.0</td>\n",
       "      <td>65.0</td>\n",
       "      <td>57.0</td>\n",
       "      <td>1012.6</td>\n",
       "      <td>1013.5</td>\n",
       "      <td>NaN</td>\n",
       "      <td>NaN</td>\n",
       "      <td>17.5</td>\n",
       "      <td>18.6</td>\n",
       "      <td>No</td>\n",
       "    </tr>\n",
       "    <tr>\n",
       "      <th>2</th>\n",
       "      <td>2015-06-06</td>\n",
       "      <td>SalmonGums</td>\n",
       "      <td>9.0</td>\n",
       "      <td>23.7</td>\n",
       "      <td>0.0</td>\n",
       "      <td>NaN</td>\n",
       "      <td>NaN</td>\n",
       "      <td>W</td>\n",
       "      <td>28.0</td>\n",
       "      <td>WNW</td>\n",
       "      <td>W</td>\n",
       "      <td>11.0</td>\n",
       "      <td>15.0</td>\n",
       "      <td>59.0</td>\n",
       "      <td>45.0</td>\n",
       "      <td>NaN</td>\n",
       "      <td>NaN</td>\n",
       "      <td>NaN</td>\n",
       "      <td>NaN</td>\n",
       "      <td>14.6</td>\n",
       "      <td>23.1</td>\n",
       "      <td>No</td>\n",
       "    </tr>\n",
       "    <tr>\n",
       "      <th>3</th>\n",
       "      <td>2014-01-09</td>\n",
       "      <td>Albany</td>\n",
       "      <td>15.3</td>\n",
       "      <td>24.0</td>\n",
       "      <td>0.0</td>\n",
       "      <td>8.2</td>\n",
       "      <td>12.1</td>\n",
       "      <td>NaN</td>\n",
       "      <td>NaN</td>\n",
       "      <td>SSW</td>\n",
       "      <td>SSW</td>\n",
       "      <td>4.0</td>\n",
       "      <td>15.0</td>\n",
       "      <td>63.0</td>\n",
       "      <td>82.0</td>\n",
       "      <td>1018.1</td>\n",
       "      <td>1016.7</td>\n",
       "      <td>3.0</td>\n",
       "      <td>3.0</td>\n",
       "      <td>21.8</td>\n",
       "      <td>21.8</td>\n",
       "      <td>No</td>\n",
       "    </tr>\n",
       "    <tr>\n",
       "      <th>4</th>\n",
       "      <td>2014-12-14</td>\n",
       "      <td>Mildura</td>\n",
       "      <td>17.3</td>\n",
       "      <td>37.5</td>\n",
       "      <td>0.0</td>\n",
       "      <td>8.6</td>\n",
       "      <td>11.4</td>\n",
       "      <td>N</td>\n",
       "      <td>39.0</td>\n",
       "      <td>NE</td>\n",
       "      <td>NW</td>\n",
       "      <td>9.0</td>\n",
       "      <td>15.0</td>\n",
       "      <td>26.0</td>\n",
       "      <td>12.0</td>\n",
       "      <td>1009.6</td>\n",
       "      <td>1006.2</td>\n",
       "      <td>7.0</td>\n",
       "      <td>4.0</td>\n",
       "      <td>23.8</td>\n",
       "      <td>35.7</td>\n",
       "      <td>No</td>\n",
       "    </tr>\n",
       "  </tbody>\n",
       "</table>\n",
       "</div>"
      ],
      "text/plain": [
       "         Date     Location  MinTemp  MaxTemp  Rainfall  Evaporation  Sunshine  \\\n",
       "0  2009-04-12      Woomera     14.9     30.3       0.0          7.4      10.9   \n",
       "1  2014-12-08  Witchcliffe     14.6     21.5       0.2          NaN       NaN   \n",
       "2  2015-06-06   SalmonGums      9.0     23.7       0.0          NaN       NaN   \n",
       "3  2014-01-09       Albany     15.3     24.0       0.0          8.2      12.1   \n",
       "4  2014-12-14      Mildura     17.3     37.5       0.0          8.6      11.4   \n",
       "\n",
       "  WindGustDir  WindGustSpeed WindDir9am WindDir3pm  WindSpeed9am  \\\n",
       "0           S           33.0        ESE         SW          15.0   \n",
       "1         SSE           46.0          S        SSE          26.0   \n",
       "2           W           28.0        WNW          W          11.0   \n",
       "3         NaN            NaN        SSW        SSW           4.0   \n",
       "4           N           39.0         NE         NW           9.0   \n",
       "\n",
       "   WindSpeed3pm  Humidity9am  Humidity3pm  Pressure9am  Pressure3pm  Cloud9am  \\\n",
       "0          11.0         19.0         12.0       1021.1       1017.8       1.0   \n",
       "1          28.0         65.0         57.0       1012.6       1013.5       NaN   \n",
       "2          15.0         59.0         45.0          NaN          NaN       NaN   \n",
       "3          15.0         63.0         82.0       1018.1       1016.7       3.0   \n",
       "4          15.0         26.0         12.0       1009.6       1006.2       7.0   \n",
       "\n",
       "   Cloud3pm  Temp9am  Temp3pm RainToday  \n",
       "0       1.0     22.2     29.7        No  \n",
       "1       NaN     17.5     18.6        No  \n",
       "2       NaN     14.6     23.1        No  \n",
       "3       3.0     21.8     21.8        No  \n",
       "4       4.0     23.8     35.7        No  "
      ]
     },
     "execution_count": 9,
     "metadata": {},
     "output_type": "execute_result"
    }
   ],
   "source": [
    "# Reset index and drop it\n",
    "\n",
    "X_train.reset_index(inplace=True)\n",
    "X_train = X_train.drop(columns=['index'],axis=1)\n",
    "X_train.head()"
   ]
  },
  {
   "cell_type": "code",
   "execution_count": 10,
   "id": "251a49d6",
   "metadata": {
    "scrolled": true
   },
   "outputs": [
    {
     "data": {
      "text/html": [
       "<div>\n",
       "<style scoped>\n",
       "    .dataframe tbody tr th:only-of-type {\n",
       "        vertical-align: middle;\n",
       "    }\n",
       "\n",
       "    .dataframe tbody tr th {\n",
       "        vertical-align: top;\n",
       "    }\n",
       "\n",
       "    .dataframe thead th {\n",
       "        text-align: right;\n",
       "    }\n",
       "</style>\n",
       "<table border=\"1\" class=\"dataframe\">\n",
       "  <thead>\n",
       "    <tr style=\"text-align: right;\">\n",
       "      <th></th>\n",
       "      <th>Date</th>\n",
       "      <th>Location</th>\n",
       "      <th>MinTemp</th>\n",
       "      <th>MaxTemp</th>\n",
       "      <th>Rainfall</th>\n",
       "      <th>Evaporation</th>\n",
       "      <th>Sunshine</th>\n",
       "      <th>WindGustDir</th>\n",
       "      <th>WindGustSpeed</th>\n",
       "      <th>WindDir9am</th>\n",
       "      <th>WindDir3pm</th>\n",
       "      <th>WindSpeed9am</th>\n",
       "      <th>WindSpeed3pm</th>\n",
       "      <th>Humidity9am</th>\n",
       "      <th>Humidity3pm</th>\n",
       "      <th>Pressure9am</th>\n",
       "      <th>Pressure3pm</th>\n",
       "      <th>Cloud9am</th>\n",
       "      <th>Cloud3pm</th>\n",
       "      <th>Temp9am</th>\n",
       "      <th>Temp3pm</th>\n",
       "      <th>RainToday</th>\n",
       "    </tr>\n",
       "  </thead>\n",
       "  <tbody>\n",
       "    <tr>\n",
       "      <th>0</th>\n",
       "      <td>2016-06-09</td>\n",
       "      <td>Ballarat</td>\n",
       "      <td>7.1</td>\n",
       "      <td>13.0</td>\n",
       "      <td>8.8</td>\n",
       "      <td>NaN</td>\n",
       "      <td>NaN</td>\n",
       "      <td>N</td>\n",
       "      <td>41.0</td>\n",
       "      <td>N</td>\n",
       "      <td>WNW</td>\n",
       "      <td>24.0</td>\n",
       "      <td>22.0</td>\n",
       "      <td>100.0</td>\n",
       "      <td>98.0</td>\n",
       "      <td>1001.7</td>\n",
       "      <td>1005.4</td>\n",
       "      <td>8.0</td>\n",
       "      <td>8.0</td>\n",
       "      <td>8.6</td>\n",
       "      <td>11.5</td>\n",
       "      <td>Yes</td>\n",
       "    </tr>\n",
       "    <tr>\n",
       "      <th>1</th>\n",
       "      <td>2009-10-24</td>\n",
       "      <td>Walpole</td>\n",
       "      <td>13.2</td>\n",
       "      <td>18.3</td>\n",
       "      <td>0.0</td>\n",
       "      <td>NaN</td>\n",
       "      <td>NaN</td>\n",
       "      <td>E</td>\n",
       "      <td>48.0</td>\n",
       "      <td>ESE</td>\n",
       "      <td>ESE</td>\n",
       "      <td>24.0</td>\n",
       "      <td>20.0</td>\n",
       "      <td>73.0</td>\n",
       "      <td>73.0</td>\n",
       "      <td>1027.6</td>\n",
       "      <td>1023.8</td>\n",
       "      <td>NaN</td>\n",
       "      <td>NaN</td>\n",
       "      <td>14.2</td>\n",
       "      <td>17.0</td>\n",
       "      <td>No</td>\n",
       "    </tr>\n",
       "    <tr>\n",
       "      <th>2</th>\n",
       "      <td>2015-09-21</td>\n",
       "      <td>PerthAirport</td>\n",
       "      <td>9.2</td>\n",
       "      <td>22.7</td>\n",
       "      <td>0.0</td>\n",
       "      <td>5.0</td>\n",
       "      <td>11.1</td>\n",
       "      <td>ENE</td>\n",
       "      <td>52.0</td>\n",
       "      <td>ENE</td>\n",
       "      <td>ESE</td>\n",
       "      <td>26.0</td>\n",
       "      <td>20.0</td>\n",
       "      <td>45.0</td>\n",
       "      <td>25.0</td>\n",
       "      <td>1030.1</td>\n",
       "      <td>1025.9</td>\n",
       "      <td>0.0</td>\n",
       "      <td>0.0</td>\n",
       "      <td>15.1</td>\n",
       "      <td>22.5</td>\n",
       "      <td>No</td>\n",
       "    </tr>\n",
       "    <tr>\n",
       "      <th>3</th>\n",
       "      <td>2011-12-06</td>\n",
       "      <td>Cobar</td>\n",
       "      <td>15.3</td>\n",
       "      <td>26.1</td>\n",
       "      <td>0.0</td>\n",
       "      <td>10.4</td>\n",
       "      <td>NaN</td>\n",
       "      <td>E</td>\n",
       "      <td>44.0</td>\n",
       "      <td>E</td>\n",
       "      <td>NE</td>\n",
       "      <td>24.0</td>\n",
       "      <td>19.0</td>\n",
       "      <td>48.0</td>\n",
       "      <td>40.0</td>\n",
       "      <td>1013.2</td>\n",
       "      <td>1009.8</td>\n",
       "      <td>7.0</td>\n",
       "      <td>7.0</td>\n",
       "      <td>17.5</td>\n",
       "      <td>24.3</td>\n",
       "      <td>No</td>\n",
       "    </tr>\n",
       "    <tr>\n",
       "      <th>4</th>\n",
       "      <td>2014-03-15</td>\n",
       "      <td>Sale</td>\n",
       "      <td>11.9</td>\n",
       "      <td>31.8</td>\n",
       "      <td>0.0</td>\n",
       "      <td>5.0</td>\n",
       "      <td>4.1</td>\n",
       "      <td>NW</td>\n",
       "      <td>72.0</td>\n",
       "      <td>E</td>\n",
       "      <td>N</td>\n",
       "      <td>6.0</td>\n",
       "      <td>19.0</td>\n",
       "      <td>89.0</td>\n",
       "      <td>25.0</td>\n",
       "      <td>1006.7</td>\n",
       "      <td>1001.0</td>\n",
       "      <td>7.0</td>\n",
       "      <td>6.0</td>\n",
       "      <td>16.2</td>\n",
       "      <td>27.4</td>\n",
       "      <td>No</td>\n",
       "    </tr>\n",
       "  </tbody>\n",
       "</table>\n",
       "</div>"
      ],
      "text/plain": [
       "         Date      Location  MinTemp  MaxTemp  Rainfall  Evaporation  \\\n",
       "0  2016-06-09      Ballarat      7.1     13.0       8.8          NaN   \n",
       "1  2009-10-24       Walpole     13.2     18.3       0.0          NaN   \n",
       "2  2015-09-21  PerthAirport      9.2     22.7       0.0          5.0   \n",
       "3  2011-12-06         Cobar     15.3     26.1       0.0         10.4   \n",
       "4  2014-03-15          Sale     11.9     31.8       0.0          5.0   \n",
       "\n",
       "   Sunshine WindGustDir  WindGustSpeed WindDir9am WindDir3pm  WindSpeed9am  \\\n",
       "0       NaN           N           41.0          N        WNW          24.0   \n",
       "1       NaN           E           48.0        ESE        ESE          24.0   \n",
       "2      11.1         ENE           52.0        ENE        ESE          26.0   \n",
       "3       NaN           E           44.0          E         NE          24.0   \n",
       "4       4.1          NW           72.0          E          N           6.0   \n",
       "\n",
       "   WindSpeed3pm  Humidity9am  Humidity3pm  Pressure9am  Pressure3pm  Cloud9am  \\\n",
       "0          22.0        100.0         98.0       1001.7       1005.4       8.0   \n",
       "1          20.0         73.0         73.0       1027.6       1023.8       NaN   \n",
       "2          20.0         45.0         25.0       1030.1       1025.9       0.0   \n",
       "3          19.0         48.0         40.0       1013.2       1009.8       7.0   \n",
       "4          19.0         89.0         25.0       1006.7       1001.0       7.0   \n",
       "\n",
       "   Cloud3pm  Temp9am  Temp3pm RainToday  \n",
       "0       8.0      8.6     11.5       Yes  \n",
       "1       NaN     14.2     17.0        No  \n",
       "2       0.0     15.1     22.5        No  \n",
       "3       7.0     17.5     24.3        No  \n",
       "4       6.0     16.2     27.4        No  "
      ]
     },
     "execution_count": 10,
     "metadata": {},
     "output_type": "execute_result"
    }
   ],
   "source": [
    "# Reset index and drop it\n",
    "\n",
    "X_test.reset_index(inplace=True)\n",
    "X_test = X_test.drop(columns=['index'],axis=1)\n",
    "X_test.head()"
   ]
  },
  {
   "cell_type": "code",
   "execution_count": 11,
   "id": "c8311ca0",
   "metadata": {},
   "outputs": [],
   "source": [
    "y_train = y_train.replace('Yes', 1.0)\n",
    "y_train = y_train.replace('No', 0.0)\n",
    "y_test = y_test.replace('Yes', 1.0)\n",
    "y_test = y_test.replace('No', 0.0)"
   ]
  },
  {
   "cell_type": "code",
   "execution_count": 12,
   "id": "greenhouse-explosion",
   "metadata": {},
   "outputs": [
    {
     "data": {
      "text/plain": [
       "0.0    0.775412\n",
       "1.0    0.224588\n",
       "Name: RainTomorrow, dtype: float64"
      ]
     },
     "execution_count": 12,
     "metadata": {},
     "output_type": "execute_result"
    }
   ],
   "source": [
    "# Inspect Target Variable\n",
    "\n",
    "y_train.value_counts(normalize=True)"
   ]
  },
  {
   "cell_type": "code",
   "execution_count": 13,
   "id": "5c9baa6a",
   "metadata": {
    "scrolled": false
   },
   "outputs": [
    {
     "data": {
      "text/plain": [
       "Canberra            2578\n",
       "Sydney              2429\n",
       "Hobart              2416\n",
       "Perth               2408\n",
       "Brisbane            2401\n",
       "Darwin              2382\n",
       "Adelaide            2329\n",
       "Tuggeranong         2298\n",
       "Mildura             2295\n",
       "Bendigo             2279\n",
       "Launceston          2279\n",
       "PerthAirport        2269\n",
       "Woomera             2266\n",
       "Ballarat            2262\n",
       "Albany              2255\n",
       "MountGambier        2254\n",
       "Townsville          2248\n",
       "CoffsHarbour        2247\n",
       "MelbourneAirport    2246\n",
       "Watsonia            2243\n",
       "Sale                2241\n",
       "Witchcliffe         2240\n",
       "GoldCoast           2240\n",
       "AliceSprings        2237\n",
       "WaggaWagga          2236\n",
       "Portland            2236\n",
       "NorfolkIsland       2236\n",
       "Cobar               2236\n",
       "Albury              2234\n",
       "Penrith             2233\n",
       "Cairns              2232\n",
       "BadgerysCreek       2232\n",
       "Newcastle           2229\n",
       "SydneyAirport       2224\n",
       "Nuriootpa           2224\n",
       "Wollongong          2213\n",
       "SalmonGums          2206\n",
       "Richmond            2201\n",
       "Dartmoor            2200\n",
       "MountGinini         2192\n",
       "NorahHead           2179\n",
       "Moree               2134\n",
       "Walpole             2133\n",
       "PearceRAAF          2087\n",
       "Williamtown         1905\n",
       "Melbourne           1834\n",
       "Katherine           1193\n",
       "Uluru               1138\n",
       "Nhil                1135\n",
       "Name: Location, dtype: int64"
      ]
     },
     "execution_count": 13,
     "metadata": {},
     "output_type": "execute_result"
    }
   ],
   "source": [
    "# Ensure we get a fair spread of data across the country\n",
    "\n",
    "X_train['Location'].value_counts()"
   ]
  },
  {
   "cell_type": "code",
   "execution_count": 14,
   "id": "d73ed0f0",
   "metadata": {
    "scrolled": true
   },
   "outputs": [
    {
     "data": {
      "image/png": "[encoded data removed]",
      "text/plain": [
       "<Figure size 1440x1440 with 16 Axes>"
      ]
     },
     "metadata": {
      "needs_background": "light"
     },
     "output_type": "display_data"
    }
   ],
   "source": [
    "# Plot each column in a histogram to see what type of distribution there is when imputing\n",
    "columns_with_nulls = X_train.drop(['Location','Date'], axis=1)\n",
    "columns_with_nulls.hist(figsize=(20,20))\n",
    "plt.savefig('Visualizations/ColumnsHist.png', bbox_inches = 'tight')"
   ]
  },
  {
   "cell_type": "code",
   "execution_count": 15,
   "id": "7641a8a2",
   "metadata": {},
   "outputs": [
    {
     "name": "stdout",
     "output_type": "stream",
     "text": [
      "<class 'pandas.core.frame.DataFrame'>\n",
      "RangeIndex: 106644 entries, 0 to 106643\n",
      "Data columns (total 22 columns):\n",
      " #   Column         Non-Null Count   Dtype  \n",
      "---  ------         --------------   -----  \n",
      " 0   Date           106644 non-null  object \n",
      " 1   Location       106644 non-null  object \n",
      " 2   MinTemp        106150 non-null  float64\n",
      " 3   MaxTemp        106387 non-null  float64\n",
      " 4   Rainfall       105540 non-null  float64\n",
      " 5   Evaporation    60909 non-null   float64\n",
      " 6   Sunshine       55677 non-null   float64\n",
      " 7   WindGustDir    99665 non-null   object \n",
      " 8   WindGustSpeed  99715 non-null   float64\n",
      " 9   WindDir9am     99120 non-null   object \n",
      " 10  WindDir3pm     103822 non-null  object \n",
      " 11  WindSpeed9am   105646 non-null  float64\n",
      " 12  WindSpeed3pm   104681 non-null  float64\n",
      " 13  Humidity9am    105326 non-null  float64\n",
      " 14  Humidity3pm    103917 non-null  float64\n",
      " 15  Pressure9am    96098 non-null   float64\n",
      " 16  Pressure3pm    96123 non-null   float64\n",
      " 17  Cloud9am       66285 non-null   float64\n",
      " 18  Cloud3pm       63757 non-null   float64\n",
      " 19  Temp9am        105967 non-null  float64\n",
      " 20  Temp3pm        104579 non-null  float64\n",
      " 21  RainToday      105540 non-null  object \n",
      "dtypes: float64(16), object(6)\n",
      "memory usage: 17.9+ MB\n"
     ]
    }
   ],
   "source": [
    "X_train.info(1, null_counts=True)"
   ]
  },
  {
   "cell_type": "markdown",
   "id": "e7143413",
   "metadata": {},
   "source": [
    "As we can see, Evaporation, Sunshine, and cloud data all have a large amount of nulls. Let's take a deeper look into these variables."
   ]
  },
  {
   "cell_type": "code",
   "execution_count": 16,
   "id": "6a5e5efe",
   "metadata": {
    "scrolled": false
   },
   "outputs": [
    {
     "data": {
      "text/html": [
       "<div>\n",
       "<style scoped>\n",
       "    .dataframe tbody tr th:only-of-type {\n",
       "        vertical-align: middle;\n",
       "    }\n",
       "\n",
       "    .dataframe tbody tr th {\n",
       "        vertical-align: top;\n",
       "    }\n",
       "\n",
       "    .dataframe thead th {\n",
       "        text-align: right;\n",
       "    }\n",
       "</style>\n",
       "<table border=\"1\" class=\"dataframe\">\n",
       "  <thead>\n",
       "    <tr style=\"text-align: right;\">\n",
       "      <th></th>\n",
       "      <th>Date</th>\n",
       "      <th>Location</th>\n",
       "      <th>MinTemp</th>\n",
       "      <th>MaxTemp</th>\n",
       "      <th>Rainfall</th>\n",
       "      <th>Evaporation</th>\n",
       "      <th>Sunshine</th>\n",
       "      <th>WindGustDir</th>\n",
       "      <th>WindGustSpeed</th>\n",
       "      <th>WindDir9am</th>\n",
       "      <th>WindDir3pm</th>\n",
       "      <th>WindSpeed9am</th>\n",
       "      <th>WindSpeed3pm</th>\n",
       "      <th>Humidity9am</th>\n",
       "      <th>Humidity3pm</th>\n",
       "      <th>Pressure9am</th>\n",
       "      <th>Pressure3pm</th>\n",
       "      <th>Cloud9am</th>\n",
       "      <th>Cloud3pm</th>\n",
       "      <th>Temp9am</th>\n",
       "      <th>Temp3pm</th>\n",
       "      <th>RainToday</th>\n",
       "    </tr>\n",
       "  </thead>\n",
       "  <tbody>\n",
       "    <tr>\n",
       "      <th>0</th>\n",
       "      <td>2009-04-12</td>\n",
       "      <td>Woomera</td>\n",
       "      <td>14.9</td>\n",
       "      <td>30.3</td>\n",
       "      <td>0.0</td>\n",
       "      <td>7.4</td>\n",
       "      <td>10.9</td>\n",
       "      <td>S</td>\n",
       "      <td>33.0</td>\n",
       "      <td>ESE</td>\n",
       "      <td>SW</td>\n",
       "      <td>15.0</td>\n",
       "      <td>11.0</td>\n",
       "      <td>19.0</td>\n",
       "      <td>12.0</td>\n",
       "      <td>1021.1</td>\n",
       "      <td>1017.8</td>\n",
       "      <td>1.0</td>\n",
       "      <td>1.0</td>\n",
       "      <td>22.2</td>\n",
       "      <td>29.7</td>\n",
       "      <td>No</td>\n",
       "    </tr>\n",
       "    <tr>\n",
       "      <th>1</th>\n",
       "      <td>2014-12-08</td>\n",
       "      <td>Witchcliffe</td>\n",
       "      <td>14.6</td>\n",
       "      <td>21.5</td>\n",
       "      <td>0.2</td>\n",
       "      <td>NaN</td>\n",
       "      <td>NaN</td>\n",
       "      <td>SSE</td>\n",
       "      <td>46.0</td>\n",
       "      <td>S</td>\n",
       "      <td>SSE</td>\n",
       "      <td>26.0</td>\n",
       "      <td>28.0</td>\n",
       "      <td>65.0</td>\n",
       "      <td>57.0</td>\n",
       "      <td>1012.6</td>\n",
       "      <td>1013.5</td>\n",
       "      <td>NaN</td>\n",
       "      <td>NaN</td>\n",
       "      <td>17.5</td>\n",
       "      <td>18.6</td>\n",
       "      <td>No</td>\n",
       "    </tr>\n",
       "    <tr>\n",
       "      <th>2</th>\n",
       "      <td>2015-06-06</td>\n",
       "      <td>SalmonGums</td>\n",
       "      <td>9.0</td>\n",
       "      <td>23.7</td>\n",
       "      <td>0.0</td>\n",
       "      <td>NaN</td>\n",
       "      <td>NaN</td>\n",
       "      <td>W</td>\n",
       "      <td>28.0</td>\n",
       "      <td>WNW</td>\n",
       "      <td>W</td>\n",
       "      <td>11.0</td>\n",
       "      <td>15.0</td>\n",
       "      <td>59.0</td>\n",
       "      <td>45.0</td>\n",
       "      <td>NaN</td>\n",
       "      <td>NaN</td>\n",
       "      <td>NaN</td>\n",
       "      <td>NaN</td>\n",
       "      <td>14.6</td>\n",
       "      <td>23.1</td>\n",
       "      <td>No</td>\n",
       "    </tr>\n",
       "    <tr>\n",
       "      <th>3</th>\n",
       "      <td>2014-01-09</td>\n",
       "      <td>Albany</td>\n",
       "      <td>15.3</td>\n",
       "      <td>24.0</td>\n",
       "      <td>0.0</td>\n",
       "      <td>8.2</td>\n",
       "      <td>12.1</td>\n",
       "      <td>NaN</td>\n",
       "      <td>NaN</td>\n",
       "      <td>SSW</td>\n",
       "      <td>SSW</td>\n",
       "      <td>4.0</td>\n",
       "      <td>15.0</td>\n",
       "      <td>63.0</td>\n",
       "      <td>82.0</td>\n",
       "      <td>1018.1</td>\n",
       "      <td>1016.7</td>\n",
       "      <td>3.0</td>\n",
       "      <td>3.0</td>\n",
       "      <td>21.8</td>\n",
       "      <td>21.8</td>\n",
       "      <td>No</td>\n",
       "    </tr>\n",
       "    <tr>\n",
       "      <th>4</th>\n",
       "      <td>2014-12-14</td>\n",
       "      <td>Mildura</td>\n",
       "      <td>17.3</td>\n",
       "      <td>37.5</td>\n",
       "      <td>0.0</td>\n",
       "      <td>8.6</td>\n",
       "      <td>11.4</td>\n",
       "      <td>N</td>\n",
       "      <td>39.0</td>\n",
       "      <td>NE</td>\n",
       "      <td>NW</td>\n",
       "      <td>9.0</td>\n",
       "      <td>15.0</td>\n",
       "      <td>26.0</td>\n",
       "      <td>12.0</td>\n",
       "      <td>1009.6</td>\n",
       "      <td>1006.2</td>\n",
       "      <td>7.0</td>\n",
       "      <td>4.0</td>\n",
       "      <td>23.8</td>\n",
       "      <td>35.7</td>\n",
       "      <td>No</td>\n",
       "    </tr>\n",
       "  </tbody>\n",
       "</table>\n",
       "</div>"
      ],
      "text/plain": [
       "         Date     Location  MinTemp  MaxTemp  Rainfall  Evaporation  Sunshine  \\\n",
       "0  2009-04-12      Woomera     14.9     30.3       0.0          7.4      10.9   \n",
       "1  2014-12-08  Witchcliffe     14.6     21.5       0.2          NaN       NaN   \n",
       "2  2015-06-06   SalmonGums      9.0     23.7       0.0          NaN       NaN   \n",
       "3  2014-01-09       Albany     15.3     24.0       0.0          8.2      12.1   \n",
       "4  2014-12-14      Mildura     17.3     37.5       0.0          8.6      11.4   \n",
       "\n",
       "  WindGustDir  WindGustSpeed WindDir9am WindDir3pm  WindSpeed9am  \\\n",
       "0           S           33.0        ESE         SW          15.0   \n",
       "1         SSE           46.0          S        SSE          26.0   \n",
       "2           W           28.0        WNW          W          11.0   \n",
       "3         NaN            NaN        SSW        SSW           4.0   \n",
       "4           N           39.0         NE         NW           9.0   \n",
       "\n",
       "   WindSpeed3pm  Humidity9am  Humidity3pm  Pressure9am  Pressure3pm  Cloud9am  \\\n",
       "0          11.0         19.0         12.0       1021.1       1017.8       1.0   \n",
       "1          28.0         65.0         57.0       1012.6       1013.5       NaN   \n",
       "2          15.0         59.0         45.0          NaN          NaN       NaN   \n",
       "3          15.0         63.0         82.0       1018.1       1016.7       3.0   \n",
       "4          15.0         26.0         12.0       1009.6       1006.2       7.0   \n",
       "\n",
       "   Cloud3pm  Temp9am  Temp3pm RainToday  \n",
       "0       1.0     22.2     29.7        No  \n",
       "1       NaN     17.5     18.6        No  \n",
       "2       NaN     14.6     23.1        No  \n",
       "3       3.0     21.8     21.8        No  \n",
       "4       4.0     23.8     35.7        No  "
      ]
     },
     "execution_count": 16,
     "metadata": {},
     "output_type": "execute_result"
    }
   ],
   "source": [
    "X_train.head()"
   ]
  },
  {
   "cell_type": "markdown",
   "id": "56c92f40",
   "metadata": {},
   "source": [
    "The following code is to create meaningful information about our null values, so that we can impute them in a more educated manner. "
   ]
  },
  {
   "cell_type": "code",
   "execution_count": 17,
   "id": "f0c4bc0a",
   "metadata": {},
   "outputs": [],
   "source": [
    "# Dropping NAs to obtain distribution for data that isn't NA\n",
    "\n",
    "rain_data_cloud_dropna = X_train.dropna(axis=0, subset=['Cloud3pm','Cloud9am'])"
   ]
  },
  {
   "cell_type": "code",
   "execution_count": 18,
   "id": "70b5490e",
   "metadata": {
    "scrolled": true
   },
   "outputs": [],
   "source": [
    "# Dropping NAs to obtain distribution for data that isn't NA\n",
    "\n",
    "rain_data_sunshine_dropna = X_train.dropna(axis=0, subset=['Sunshine'])"
   ]
  },
  {
   "cell_type": "code",
   "execution_count": 19,
   "id": "e43a7040",
   "metadata": {},
   "outputs": [
    {
     "data": {
      "text/plain": [
       "No     39031\n",
       "Yes    11143\n",
       "Name: RainToday, dtype: int64"
      ]
     },
     "execution_count": 19,
     "metadata": {},
     "output_type": "execute_result"
    }
   ],
   "source": [
    "# Checking null sunshine data against rain data to see what the population looks like\n",
    "\n",
    "rain_data_sunshine_nulls = X_train[X_train['Sunshine'].isna()]\n",
    "rain_data_sunshine_nulls['RainToday'].value_counts()"
   ]
  },
  {
   "cell_type": "code",
   "execution_count": 20,
   "id": "6f8117a1",
   "metadata": {},
   "outputs": [],
   "source": [
    "# Removing nulls from sunshine data and biforcating the population to get means for sunshine when it rains vs not.\n",
    "\n",
    "sunshine_when_rain = rain_data_sunshine_dropna[rain_data_sunshine_dropna['RainToday']==\"Yes\"]\n",
    "sunshine_no_rain = rain_data_sunshine_dropna[rain_data_sunshine_dropna['RainToday']==\"No\"]"
   ]
  },
  {
   "cell_type": "code",
   "execution_count": 21,
   "id": "db82ee0c",
   "metadata": {},
   "outputs": [],
   "source": [
    "# Checking evaporation mean when sunshine is greater than zero\n",
    "\n",
    "evaporation_test = X_train.loc[X_train['Sunshine']>0.0,'Evaporation']"
   ]
  },
  {
   "cell_type": "code",
   "execution_count": 22,
   "id": "79b024eb",
   "metadata": {},
   "outputs": [],
   "source": [
    "# Checking the mean of cloud data when it doesn't rain and humidity is high/low \n",
    "# (Population is not normal without humidity check)\n",
    "\n",
    "cloud9_no_rain_lower_humidity = X_train.loc[(rain_data['RainToday']=='No') & (X_train['Humidity9am']<=70.0),'Cloud9am']\n",
    "cloud9_no_rain_higher_humidity = X_train.loc[(X_train['RainToday']=='No') & (X_train['Humidity9am']>=70.0),'Cloud9am']\n",
    "cloud3_no_rain_lower_humidity = X_train.loc[(X_train['RainToday']=='No') & (X_train['Humidity3pm']<=70.0),'Cloud3pm']\n",
    "cloud3_no_rain_higher_humidity = X_train.loc[(X_train['RainToday']=='No') & (X_train['Humidity3pm']>=70.0),'Cloud3pm']"
   ]
  },
  {
   "cell_type": "code",
   "execution_count": 23,
   "id": "7fb47547",
   "metadata": {},
   "outputs": [],
   "source": [
    "# Checking the mean of cloud data when it does rain\n",
    "\n",
    "cloud9_rain = X_train.loc[X_train['RainToday']=='Yes','Cloud9am']\n",
    "cloud3_rain = X_train.loc[X_train['RainToday']=='Yes','Cloud3pm']"
   ]
  },
  {
   "cell_type": "code",
   "execution_count": 24,
   "id": "87cf4b84",
   "metadata": {},
   "outputs": [],
   "source": [
    "# Checking null data to see how many records have both null cloud data and sunshine data.\n",
    "\n",
    "test = []\n",
    "\n",
    "for index in range(0,106643,1):\n",
    "    if pd.isna(X_train['Cloud3pm'].loc[index]) and pd.isna(X_train['Cloud9am'].loc[index]):\n",
    "        if pd.notna(X_train['Sunshine'].loc[index]):\n",
    "            test.append('Sunshine')\n",
    "        elif pd.isna(X_train['Sunshine'].loc[index]):\n",
    "            test.append('Neither')\n",
    "        else:\n",
    "            pass\n",
    "    elif pd.notna(X_train['Cloud3pm'].loc[index]) or pd.notna(X_train['Cloud9am'].loc[index]):\n",
    "        if pd.notna(X_train['Sunshine'].loc[index]):\n",
    "            test.append('Both')\n",
    "        elif pd.isna(X_train['Sunshine'].loc[index]):\n",
    "            test.append('Clouds')\n",
    "        else:\n",
    "            pass\n",
    "    else:\n",
    "        pass"
   ]
  },
  {
   "cell_type": "code",
   "execution_count": 25,
   "id": "a5c44259",
   "metadata": {},
   "outputs": [
    {
     "name": "stdout",
     "output_type": "stream",
     "text": [
      "There are 5580 records of sunshine data with no cloud data.\n",
      "There are 19220 records of cloud data with no sunshine data.\n",
      "There are 31746 records of neither sunshine or cloud data.\n",
      "There are 50097 records of both sunshine and cloud data.\n"
     ]
    }
   ],
   "source": [
    "print(\"There are \" + str(test.count('Sunshine')) + \" records of sunshine data with no cloud data.\")\n",
    "print(\"There are \" + str(test.count('Clouds')) + \" records of cloud data with no sunshine data.\")\n",
    "print(\"There are \" + str(test.count('Neither')) + \" records of neither sunshine or cloud data.\")\n",
    "print(\"There are \" + str(test.count('Both')) + \" records of both sunshine and cloud data.\")"
   ]
  },
  {
   "cell_type": "code",
   "execution_count": 26,
   "id": "619564b2",
   "metadata": {},
   "outputs": [],
   "source": [
    "test_data = {'Sunshine data with Cloud Nulls': 8258, 'Cloud Data with Sunshine Nulls': 26349, 'Both Null': 45486, 'Neither Null': 67367}"
   ]
  },
  {
   "cell_type": "code",
   "execution_count": 27,
   "id": "0fd4e1ed",
   "metadata": {},
   "outputs": [],
   "source": [
    "# Checking the records to see the relationship between cloud data and sunshine data\n",
    "\n",
    "test2 = []\n",
    "\n",
    "for index in range(0,106643,1):\n",
    "    if X_train['Cloud3pm'].loc[index]== 0  or X_train['Cloud9am'].loc[index]==0:\n",
    "        if X_train['Sunshine'].loc[index] != 0:\n",
    "            test2.append('Sunshine')\n",
    "        elif X_train['Sunshine'].loc[index]==0:\n",
    "            test2.append('Neither')\n",
    "        else:\n",
    "            pass\n",
    "    elif X_train['Cloud3pm'].loc[index]!=0 or X_train['Cloud9am'].loc[index]!=0:\n",
    "        if X_train['Sunshine'].loc[index]!=0:\n",
    "            test2.append('Both')\n",
    "        elif X_train['Sunshine'].loc[index]==0:\n",
    "            test2.append('Clouds')\n",
    "        else:\n",
    "            pass\n",
    "    else:\n",
    "        pass"
   ]
  },
  {
   "cell_type": "code",
   "execution_count": 28,
   "id": "019be627",
   "metadata": {},
   "outputs": [
    {
     "name": "stdout",
     "output_type": "stream",
     "text": [
      "There are 7701 records of sunshine data with 0 cloud coverage.\n",
      "There are 1712 records of cloud data with 0 sunshine hours.\n",
      "There are 4 records of no sunshine or cloud coverage.\n",
      "There are 97226 records of sunshine and cloud coverage.\n"
     ]
    }
   ],
   "source": [
    "print(\"There are \" + str(test2.count('Sunshine')) + \" records of sunshine data with 0 cloud coverage.\")\n",
    "print(\"There are \" + str(test2.count('Clouds')) + \" records of cloud data with 0 sunshine hours.\")\n",
    "print(\"There are \" + str(test2.count('Neither')) + \" records of no sunshine or cloud coverage.\")\n",
    "print(\"There are \" + str(test2.count('Both')) + \" records of sunshine and cloud coverage.\")"
   ]
  },
  {
   "cell_type": "code",
   "execution_count": 29,
   "id": "72f1e613",
   "metadata": {},
   "outputs": [],
   "source": [
    "test2_data = {'Sunshine with 0 Clouds': 10350, 'Clouds with 0 sunshine': 2355, 'Neither': 4, 'Both': 139839}"
   ]
  },
  {
   "cell_type": "code",
   "execution_count": 30,
   "id": "9ac8c245",
   "metadata": {
    "scrolled": true
   },
   "outputs": [
    {
     "data": {
      "text/plain": [
       "No     0.775687\n",
       "Yes    0.224313\n",
       "Name: RainToday, dtype: float64"
      ]
     },
     "execution_count": 30,
     "metadata": {},
     "output_type": "execute_result"
    }
   ],
   "source": [
    "X_train['RainToday'].value_counts(normalize=True)"
   ]
  },
  {
   "cell_type": "code",
   "execution_count": 31,
   "id": "77aa2f3f",
   "metadata": {},
   "outputs": [],
   "source": [
    "rain_data_today = {'Did Not Rain':113580,'Rained':31880}"
   ]
  },
  {
   "cell_type": "code",
   "execution_count": 32,
   "id": "4be0abd1",
   "metadata": {
    "scrolled": false
   },
   "outputs": [
    {
     "data": {
      "image/png": "[encoded data removed]",
      "text/plain": [
       "<Figure size 1080x1800 with 8 Axes>"
      ]
     },
     "metadata": {
      "needs_background": "light"
     },
     "output_type": "display_data"
    }
   ],
   "source": [
    "# Create subplot for all of our tests/findings\n",
    "\n",
    "fig, (ax1, ax2, ax3, ax4, ax5, ax6, ax7, ax8) = plt.subplots(8, 1, figsize=(15,25))\n",
    "fig.suptitle('Plots of Cloud data and Sunshine Data')\n",
    "fig.tight_layout(pad=5.0)\n",
    "\n",
    "# This is a distribution for sunshine data that eliminates cloud nulls.\n",
    "ax1.set_title('Chart 1: Dist. of Sunshine Data w/o cloud nulls')\n",
    "ax1.hist(rain_data_cloud_dropna['Sunshine'])\n",
    "ax1.set_xlabel('Hours of Sunshine')\n",
    "ax1.set_ylabel('Sunshine Data')\n",
    "\n",
    "# This is a distribution for cloud data that eliminates sunshine nulls. It is not normally distributed so it is \n",
    "# hard to impute these values without further biforcation.\n",
    "ax2.set_title('Chart 2: Dist. of 9am Cloud Data w/o Sunshine nulls')\n",
    "ax2.hist(rain_data_sunshine_dropna['Cloud9am'])\n",
    "ax2.set_xlabel('9am Cloud Coverage (0-8)')\n",
    "ax2.set_ylabel('Cloud Data')\n",
    "\n",
    "# This is a distribution for cloud data that eliminates sunshine nulls. It is not normally distributed so it is \n",
    "# hard to impute these values without further biforcation.\n",
    "ax3.set_title('Chart 3: Dist. of 3pm Cloud Data w/o Sunshine nulls')\n",
    "ax3.hist(rain_data_sunshine_dropna['Cloud3pm'])\n",
    "ax3.set_xlabel('3pm Cloud Coverage (0-8)')\n",
    "ax3.set_ylabel('Cloud Data')\n",
    "\n",
    "# Here we plot the population of nulls and their relationships. Perhaps there is a relationship between \n",
    "# clouds and sunshine that we can impute. When both records are null, this requires more information.\n",
    "ax4.set_title('Chart 4: # of non-nulls by Category (Sunshine vs Cloud Data)')\n",
    "ax4.bar(test_data.keys(),test_data.values())\n",
    "ax4.set_xlabel('Type')\n",
    "\n",
    "# Checking the data for zeros.\n",
    "ax5.set_title('Chart 5: Non-Zero Data by Category')\n",
    "ax5.bar(test2_data.keys(),test2_data.values())\n",
    "ax5.set_xlabel('Type')\n",
    "\n",
    "# Here we find the distribution for days it does rain, and the relevant mean.\n",
    "ax6.set_title('Chart 6: Sunshine Data On Day it Rains')\n",
    "ax6.hist(sunshine_when_rain['Sunshine'],bins=14)\n",
    "\n",
    "# Here we find the distribution for days it doesn't rain, and the relevant mean.\n",
    "ax7.set_title(\"Chart 7: Sunshine Data On Day it Doesn't Rain\")\n",
    "ax7.hist(sunshine_no_rain['Sunshine'])\n",
    "\n",
    "# Here is the distribution for evaporation when sunshine is greater than zero.\n",
    "ax8.set_title(\"Chart 8: Evaporation Data when Sunshine > 0\")\n",
    "ax8.hist(evaporation_test,bins=100)\n",
    "plt.savefig('Visualizations/Subplot1.png', bbox_inches = 'tight')\n",
    "plt.show()"
   ]
  },
  {
   "cell_type": "markdown",
   "id": "cb70107e",
   "metadata": {},
   "source": [
    "Here are the actionable insights gained from the charts above:\n",
    "\n",
    "* **Chart 1**: For Sunshine Data overall and with cloud nulls filtered out, it appears to be normally distributed with a slight skew to the left. There are also many zeroes, which can be explained by rainy days.\n",
    "\n",
    "\n",
    "* **Chart 2 and 3**: For Cloud Data overall and with Sunshine nulls removed, the data appears to be hump shaped, with one large hump at a 1 on the scale, and another large hump at a 7 on the scale. \n",
    "\n",
    "\n",
    "* **Chart 4**: This chart is designed to look at the overall null population, to further understand what data we will need to impute. For our cloud data with sunshine nulls, I would recommend looking further into the rain data to determine how we should handle imputing sunshine values. For sunshine data with cloud nulls, I will impute based off of both the humps; if it rained, I will use the 7 hump, if it did not rain, I will use the 1 hump. If both are null, I will have to use only rain data to determine how I would like to handle these values.\n",
    "\n",
    "\n",
    "* **Chart 5**: I made this chart to see situations where there are clouds with 0 sunshine, and sunshine with 0 clouds. These values appear to be minimal.\n",
    "\n",
    "\n",
    "* **Chart 6 and 7**: I created charts here to see how many hours of sunshine there are when it rains, and when it doesn't rain. This could help us biforcate our population of sunshine data so that I am not imputing the mean onto data that doesn't represent the mean.\n",
    "\n",
    "* **Chart 8**: This shows evaporation data when Sunshine > 0. We can impute the mean here onto our evaporation nulls.\n",
    "\n",
    "\n",
    "We need to dive deeper into cloud data in order to figure out how to replace nulls. Please see graphs below for more details about our cloud data:"
   ]
  },
  {
   "cell_type": "code",
   "execution_count": 33,
   "id": "a81e2a11",
   "metadata": {
    "scrolled": false
   },
   "outputs": [
    {
     "data": {
      "image/png": "[encoded data removed]",
      "text/plain": [
       "<Figure size 1080x720 with 6 Axes>"
      ]
     },
     "metadata": {
      "needs_background": "light"
     },
     "output_type": "display_data"
    }
   ],
   "source": [
    "# Now I am going to make a subplot looking into the results of our cloud tests.\n",
    "\n",
    "fig, ((ax1, ax4), (ax2, ax5), (ax3, ax6)) = plt.subplots(nrows=3, ncols=2, figsize=(15,10))\n",
    "fig.suptitle('Plots of Cloud data and Sunshine Data')\n",
    "fig.tight_layout(pad=5.0)\n",
    "\n",
    "# This is a graph for our cloud data when there is low humidity and it does not rain\n",
    "ax1.set_title('Chart 9: 9am Cloud Data- Low Humidity, No Rain')\n",
    "ax1.hist(cloud9_no_rain_lower_humidity)\n",
    "\n",
    "# This is a graph for our cloud data when there is high humidity and it does not rain\n",
    "ax2.set_title('Chart 10: 9am Cloud Data- High Humidity, No Rain')\n",
    "ax2.hist(cloud9_no_rain_higher_humidity)\n",
    "\n",
    "# This is a graph for our cloud data when it does rain.\n",
    "ax3.set_title('Chart 11: 9am Cloud Data- Rains')\n",
    "ax3.hist(cloud9_rain)\n",
    "\n",
    "# This is a graph for our cloud data when there is low humidity and it does not rain\n",
    "ax4.set_title('Chart 9: 3pm Cloud Data- Low Humidity, No Rain')\n",
    "ax4.hist(cloud3_no_rain_lower_humidity)\n",
    "\n",
    "# This is a graph for our cloud data when there is high humidity and it does not rain\n",
    "ax5.set_title('Chart 10: 3pm Cloud Data- High Humidity, No Rain')\n",
    "ax5.hist(cloud3_no_rain_higher_humidity)\n",
    "\n",
    "# This is a graph for our cloud data when it does rain.\n",
    "ax6.set_title('Chart 11: 3pm Cloud Data- Rains')\n",
    "ax6.hist(cloud3_rain)\n",
    "\n",
    "plt.savefig('Visualizations/Subplot2.png', bbox_inches = 'tight')"
   ]
  },
  {
   "cell_type": "markdown",
   "id": "e5e55b98",
   "metadata": {},
   "source": [
    "Let's breakdown our Cloud data:\n",
    "\n",
    "* **Chart 9**: As we can see here, in our data when it doesn't rain and humidity is less than 70%, our Cloud data has a mean closer to 1. I will fill the nulls meeting this criteria using a lower cloud coverage.\n",
    "\n",
    "* **Chart 10**: As we can see here, in our data when it doesn't rain and humidity is greater than 70%, our Cloud data has a mean closer to 7 or 8. I will fill the nulls meeting this criteria using a higher cloud coverage.\n",
    "\n",
    "* **Chart 11**: As we can see here, in our data when it does rain, our Cloud data has a mean closer to 7 or 8. I will fill the nulls meeting this criteria using a higher cloud coverage."
   ]
  },
  {
   "cell_type": "markdown",
   "id": "4c6b36de",
   "metadata": {},
   "source": [
    "Now that I have an understanding of the data, I will perform the train/test split, and begin imputing these null values."
   ]
  },
  {
   "cell_type": "markdown",
   "id": "3299c278",
   "metadata": {},
   "source": [
    "# Section 3: Data Preparation"
   ]
  },
  {
   "cell_type": "markdown",
   "id": "b2857286",
   "metadata": {},
   "source": [
    "Before imputing my data, I am going to create numeric columns for our categorical fields using OneHotEncoding."
   ]
  },
  {
   "cell_type": "code",
   "execution_count": 34,
   "id": "7359b680",
   "metadata": {
    "scrolled": true
   },
   "outputs": [
    {
     "name": "stdout",
     "output_type": "stream",
     "text": [
      "<class 'pandas.core.frame.DataFrame'>\n",
      "RangeIndex: 106644 entries, 0 to 106643\n",
      "Data columns (total 22 columns):\n",
      " #   Column         Non-Null Count   Dtype  \n",
      "---  ------         --------------   -----  \n",
      " 0   Date           106644 non-null  object \n",
      " 1   Location       106644 non-null  object \n",
      " 2   MinTemp        106150 non-null  float64\n",
      " 3   MaxTemp        106387 non-null  float64\n",
      " 4   Rainfall       105540 non-null  float64\n",
      " 5   Evaporation    60909 non-null   float64\n",
      " 6   Sunshine       55677 non-null   float64\n",
      " 7   WindGustDir    99665 non-null   object \n",
      " 8   WindGustSpeed  99715 non-null   float64\n",
      " 9   WindDir9am     99120 non-null   object \n",
      " 10  WindDir3pm     103822 non-null  object \n",
      " 11  WindSpeed9am   105646 non-null  float64\n",
      " 12  WindSpeed3pm   104681 non-null  float64\n",
      " 13  Humidity9am    105326 non-null  float64\n",
      " 14  Humidity3pm    103917 non-null  float64\n",
      " 15  Pressure9am    96098 non-null   float64\n",
      " 16  Pressure3pm    96123 non-null   float64\n",
      " 17  Cloud9am       66285 non-null   float64\n",
      " 18  Cloud3pm       63757 non-null   float64\n",
      " 19  Temp9am        105967 non-null  float64\n",
      " 20  Temp3pm        104579 non-null  float64\n",
      " 21  RainToday      105540 non-null  object \n",
      "dtypes: float64(16), object(6)\n",
      "memory usage: 17.9+ MB\n"
     ]
    }
   ],
   "source": [
    "X_train.info()"
   ]
  },
  {
   "cell_type": "code",
   "execution_count": 35,
   "id": "57a6a200",
   "metadata": {},
   "outputs": [],
   "source": [
    "X_train = X_train.drop(['Date'],axis=1)"
   ]
  },
  {
   "cell_type": "code",
   "execution_count": 36,
   "id": "cea82dc6",
   "metadata": {
    "scrolled": false
   },
   "outputs": [],
   "source": [
    "# Impute sunshine data based off of our findings from above\n",
    "\n",
    "X_train['Sunshine'] = np.where(((X_train['Sunshine'].isna()) & (X_train['RainToday'] == 1.0)), 0.0, X_train[\"Sunshine\"])\n",
    "X_train['Sunshine'] = np.where(((X_train['Sunshine'].isna()) & (X_train['RainToday'] == 0.0)), 11.0, X_train[\"Sunshine\"])"
   ]
  },
  {
   "cell_type": "code",
   "execution_count": 37,
   "id": "384f4ac9",
   "metadata": {
    "scrolled": true
   },
   "outputs": [
    {
     "data": {
      "text/plain": [
       "True"
      ]
     },
     "execution_count": 37,
     "metadata": {},
     "output_type": "execute_result"
    }
   ],
   "source": [
    "X_train['Sunshine'].isna().any()"
   ]
  },
  {
   "cell_type": "code",
   "execution_count": 38,
   "id": "5c190c97",
   "metadata": {},
   "outputs": [
    {
     "data": {
      "text/plain": [
       "0.0     1716\n",
       "10.7     815\n",
       "11.0     812\n",
       "10.5     779\n",
       "10.8     771\n",
       "10.3     750\n",
       "10.2     732\n",
       "10.9     732\n",
       "9.8      726\n",
       "11.1     708\n",
       "10.6     708\n",
       "10.4     705\n",
       "10.0     704\n",
       "10.1     704\n",
       "9.2      698\n",
       "11.2     686\n",
       "9.9      667\n",
       "9.5      647\n",
       "9.4      639\n",
       "9.6      629\n",
       "9.7      617\n",
       "9.3      605\n",
       "9.0      565\n",
       "8.8      558\n",
       "11.3     557\n",
       "9.1      555\n",
       "8.4      548\n",
       "8.9      526\n",
       "8.7      525\n",
       "8.2      522\n",
       "11.4     515\n",
       "8.0      505\n",
       "11.6     491\n",
       "8.3      480\n",
       "8.6      468\n",
       "7.2      463\n",
       "8.5      462\n",
       "7.8      457\n",
       "13.0     448\n",
       "8.1      448\n",
       "12.0     446\n",
       "11.7     431\n",
       "13.1     425\n",
       "7.3      423\n",
       "13.2     421\n",
       "11.5     420\n",
       "11.9     418\n",
       "7.7      418\n",
       "12.7     418\n",
       "7.6      417\n",
       "11.8     414\n",
       "6.8      411\n",
       "7.1      408\n",
       "6.9      406\n",
       "7.5      403\n",
       "7.4      401\n",
       "0.1      399\n",
       "6.3      398\n",
       "6.1      396\n",
       "12.2     394\n",
       "7.0      388\n",
       "0.2      388\n",
       "12.5     383\n",
       "6.6      380\n",
       "7.9      370\n",
       "6.0      366\n",
       "6.2      366\n",
       "12.4     365\n",
       "6.5      364\n",
       "12.6     363\n",
       "12.3     359\n",
       "6.4      356\n",
       "5.7      356\n",
       "5.8      353\n",
       "12.1     353\n",
       "6.7      343\n",
       "12.8     342\n",
       "5.0      340\n",
       "5.5      339\n",
       "5.2      337\n",
       "5.6      325\n",
       "0.3      325\n",
       "13.3     319\n",
       "5.9      317\n",
       "12.9     316\n",
       "5.1      310\n",
       "5.4      310\n",
       "4.8      307\n",
       "3.8      301\n",
       "5.3      300\n",
       "4.3      295\n",
       "3.0      295\n",
       "4.4      293\n",
       "3.2      292\n",
       "4.5      291\n",
       "4.0      291\n",
       "3.9      291\n",
       "4.7      290\n",
       "4.1      285\n",
       "4.9      279\n",
       "4.6      273\n",
       "0.7      263\n",
       "3.6      262\n",
       "2.7      255\n",
       "0.4      253\n",
       "2.3      252\n",
       "4.2      251\n",
       "2.8      245\n",
       "1.0      244\n",
       "3.5      239\n",
       "1.6      236\n",
       "2.0      235\n",
       "2.2      234\n",
       "2.4      233\n",
       "1.2      233\n",
       "2.1      230\n",
       "0.9      229\n",
       "3.3      229\n",
       "13.4     227\n",
       "0.5      226\n",
       "0.6      226\n",
       "2.9      224\n",
       "1.7      224\n",
       "0.8      223\n",
       "3.7      220\n",
       "1.5      217\n",
       "1.9      216\n",
       "2.6      215\n",
       "1.3      213\n",
       "1.4      213\n",
       "3.1      212\n",
       "1.8      211\n",
       "2.5      210\n",
       "3.4      205\n",
       "1.1      201\n",
       "13.5     147\n",
       "13.6     126\n",
       "13.7      88\n",
       "13.8      48\n",
       "13.9      14\n",
       "14.0      10\n",
       "14.1       5\n",
       "14.3       4\n",
       "14.2       2\n",
       "14.5       1\n",
       "Name: Sunshine, dtype: int64"
      ]
     },
     "execution_count": 38,
     "metadata": {},
     "output_type": "execute_result"
    }
   ],
   "source": [
    "X_train['Sunshine'].value_counts()"
   ]
  },
  {
   "cell_type": "code",
   "execution_count": 39,
   "id": "3c4a9d1d",
   "metadata": {},
   "outputs": [],
   "source": [
    "# Impute zero evaporation when sunshine is zero\n",
    "\n",
    "X_train['Evaporation'] = np.where(((X_train['Evaporation'].isna()) & (X_train['Sunshine'] == 0.0)), 0.0, X_train[\"Evaporation\"])"
   ]
  },
  {
   "cell_type": "code",
   "execution_count": 40,
   "id": "0308bc72",
   "metadata": {},
   "outputs": [
    {
     "data": {
      "text/plain": [
       "5.037441856155372"
      ]
     },
     "execution_count": 40,
     "metadata": {},
     "output_type": "execute_result"
    }
   ],
   "source": [
    "evaporation_test.sum()/len(evaporation_test)"
   ]
  },
  {
   "cell_type": "code",
   "execution_count": 41,
   "id": "75af5768",
   "metadata": {},
   "outputs": [],
   "source": [
    "# Impute mean evaporation when sunshine is not zero\n",
    "\n",
    "X_train['Evaporation'] = np.where(((X_train['Evaporation'].isna()) & (X_train['Sunshine'] > 0.0)), 5.0, X_train[\"Evaporation\"])"
   ]
  },
  {
   "cell_type": "code",
   "execution_count": 42,
   "id": "701749f7",
   "metadata": {},
   "outputs": [
    {
     "data": {
      "text/plain": [
       "True"
      ]
     },
     "execution_count": 42,
     "metadata": {},
     "output_type": "execute_result"
    }
   ],
   "source": [
    "X_train['Evaporation'].isna().any()"
   ]
  },
  {
   "cell_type": "code",
   "execution_count": 43,
   "id": "50beaad1",
   "metadata": {},
   "outputs": [
    {
     "data": {
      "text/plain": [
       "5.0    4186\n",
       "4.0    2494\n",
       "8.0    1938\n",
       "2.2    1567\n",
       "2.0    1494\n",
       "Name: Evaporation, dtype: int64"
      ]
     },
     "execution_count": 43,
     "metadata": {},
     "output_type": "execute_result"
    }
   ],
   "source": [
    "X_train['Evaporation'].value_counts().head()"
   ]
  },
  {
   "cell_type": "code",
   "execution_count": 44,
   "id": "ed48e70f",
   "metadata": {
    "scrolled": true
   },
   "outputs": [
    {
     "name": "stdout",
     "output_type": "stream",
     "text": [
      "1.0    6175\n",
      "7.0    4297\n",
      "0.0    3953\n",
      "2.0    2453\n",
      "6.0    2237\n",
      "3.0    2092\n",
      "5.0    1743\n",
      "4.0    1422\n",
      "8.0    1391\n",
      "Name: Cloud9am, dtype: int64\n",
      "7.0    5366\n",
      "8.0    4206\n",
      "1.0    2952\n",
      "6.0    1884\n",
      "5.0    1282\n",
      "2.0    1261\n",
      "3.0    1179\n",
      "0.0    1132\n",
      "4.0     949\n",
      "Name: Cloud9am, dtype: int64\n",
      "8.0    4938\n",
      "7.0    4617\n",
      "6.0    1631\n",
      "1.0    1132\n",
      "5.0     955\n",
      "3.0     794\n",
      "4.0     710\n",
      "2.0     691\n",
      "0.0     174\n",
      "Name: Cloud9am, dtype: int64\n",
      "1.0    9839\n",
      "7.0    7523\n",
      "2.0    4320\n",
      "6.0    4268\n",
      "3.0    3943\n",
      "0.0    3560\n",
      "5.0    3474\n",
      "8.0    2850\n",
      "4.0    2834\n",
      "9.0       1\n",
      "Name: Cloud3pm, dtype: int64\n",
      "8.0    2529\n",
      "7.0    1878\n",
      "6.0     540\n",
      "5.0     282\n",
      "1.0     223\n",
      "4.0     199\n",
      "3.0     187\n",
      "2.0     184\n",
      "0.0      31\n",
      "Name: Cloud3pm, dtype: int64\n",
      "7.0    4215\n",
      "8.0    3907\n",
      "6.0    1865\n",
      "5.0    1302\n",
      "3.0     988\n",
      "1.0     967\n",
      "4.0     915\n",
      "2.0     827\n",
      "0.0      69\n",
      "Name: Cloud3pm, dtype: int64\n"
     ]
    }
   ],
   "source": [
    "print(cloud9_no_rain_lower_humidity.value_counts())\n",
    "print(cloud9_no_rain_higher_humidity.value_counts())\n",
    "print(cloud9_rain.value_counts())\n",
    "print(cloud3_no_rain_lower_humidity.value_counts())\n",
    "print(cloud3_no_rain_higher_humidity.value_counts())\n",
    "print(cloud3_rain.value_counts())"
   ]
  },
  {
   "cell_type": "code",
   "execution_count": 45,
   "id": "d2309238",
   "metadata": {},
   "outputs": [],
   "source": [
    "# Imputing cloud data based on our findings from section 2\n",
    "\n",
    "X_train['Cloud9am'] = np.where(((X_train['Cloud9am'].isna()) & (X_train['RainToday'] == 1.0)), 8.0, X_train[\"Cloud9am\"])\n",
    "X_train['Cloud3pm'] = np.where(((X_train['Cloud3pm'].isna()) & (X_train['RainToday'] == 1.0)), 7.0, X_train[\"Cloud3pm\"])\n",
    "X_train['Cloud9am'] = np.where(((X_train['Cloud9am'].isna()) & (X_train['RainToday'] == 0.0) & (X_train['Humidity9am']<=70.0)), 1.0, X_train[\"Cloud9am\"])\n",
    "X_train['Cloud9am'] = np.where(((X_train['Cloud9am'].isna()) & (X_train['RainToday'] == 0.0) & (X_train['Humidity9am']>70.0)), 7.0, X_train[\"Cloud9am\"])\n",
    "X_train['Cloud3pm'] = np.where(((X_train['Cloud3pm'].isna()) & (X_train['RainToday'] == 0.0) & (X_train['Humidity3pm']<=70.0)), 1.0, X_train[\"Cloud3pm\"])\n",
    "X_train['Cloud3pm'] = np.where(((X_train['Cloud3pm'].isna()) & (X_train['RainToday'] == 0.0) & (X_train['Humidity3pm']>70.0)), 8.0, X_train[\"Cloud3pm\"])"
   ]
  },
  {
   "cell_type": "code",
   "execution_count": 46,
   "id": "3824492b",
   "metadata": {
    "scrolled": true
   },
   "outputs": [
    {
     "data": {
      "text/plain": [
       "7.0    14805\n",
       "1.0    11618\n",
       "8.0    10767\n",
       "0.0     6427\n",
       "6.0     5999\n",
       "2.0     4847\n",
       "3.0     4385\n",
       "5.0     4177\n",
       "4.0     3260\n",
       "Name: Cloud9am, dtype: int64"
      ]
     },
     "execution_count": 46,
     "metadata": {},
     "output_type": "execute_result"
    }
   ],
   "source": [
    "X_train['Cloud9am'].value_counts()"
   ]
  },
  {
   "cell_type": "code",
   "execution_count": 47,
   "id": "8b392bfb",
   "metadata": {
    "scrolled": true
   },
   "outputs": [
    {
     "data": {
      "text/plain": [
       "7.0    13512\n",
       "1.0    11081\n",
       "8.0     9328\n",
       "6.0     6642\n",
       "2.0     5346\n",
       "3.0     5126\n",
       "5.0     5049\n",
       "4.0     3952\n",
       "0.0     3720\n",
       "9.0        1\n",
       "Name: Cloud3pm, dtype: int64"
      ]
     },
     "execution_count": 47,
     "metadata": {},
     "output_type": "execute_result"
    }
   ],
   "source": [
    "X_train['Cloud3pm'].value_counts()"
   ]
  },
  {
   "cell_type": "code",
   "execution_count": 48,
   "id": "6f975b4f",
   "metadata": {},
   "outputs": [],
   "source": [
    "# Imputing remaining columns based on mean, from our charts in section 2\n",
    "\n",
    "imputer = SimpleImputer(strategy='most_frequent')\n",
    "imputer = imputer.fit(X_train)\n",
    "X_train.iloc[:,:] = imputer.transform(X_train)"
   ]
  },
  {
   "cell_type": "code",
   "execution_count": 49,
   "id": "175156ea",
   "metadata": {
    "scrolled": true
   },
   "outputs": [
    {
     "name": "stdout",
     "output_type": "stream",
     "text": [
      "   MinTemp  MaxTemp  Rainfall  Evaporation  Sunshine  WindGustSpeed  \\\n",
      "0     14.9     30.3       0.0          7.4      10.9           33.0   \n",
      "1     14.6     21.5       0.2          5.0       0.0           46.0   \n",
      "2      9.0     23.7       0.0          5.0       0.0           28.0   \n",
      "3     15.3     24.0       0.0          8.2      12.1           35.0   \n",
      "4     17.3     37.5       0.0          8.6      11.4           39.0   \n",
      "\n",
      "   WindSpeed9am  WindSpeed3pm  Humidity9am  Humidity3pm  Pressure9am  \\\n",
      "0          15.0          11.0         19.0         12.0       1021.1   \n",
      "1          26.0          28.0         65.0         57.0       1012.6   \n",
      "2          11.0          15.0         59.0         45.0       1017.9   \n",
      "3           4.0          15.0         63.0         82.0       1018.1   \n",
      "4           9.0          15.0         26.0         12.0       1009.6   \n",
      "\n",
      "   Pressure3pm  Cloud9am  Cloud3pm  Temp9am  Temp3pm  x0_Adelaide  x0_Albury  \\\n",
      "0       1017.8       1.0       1.0     22.2     29.7          0.0        0.0   \n",
      "1       1013.5       7.0       7.0     17.5     18.6          0.0        0.0   \n",
      "2       1015.1       7.0       7.0     14.6     23.1          0.0        0.0   \n",
      "3       1016.7       3.0       3.0     21.8     21.8          0.0        0.0   \n",
      "4       1006.2       7.0       4.0     23.8     35.7          0.0        0.0   \n",
      "\n",
      "   x0_AliceSprings  x0_BadgerysCreek  x0_Ballarat  x0_Bendigo  x0_Brisbane  \\\n",
      "0              0.0               0.0          0.0         0.0          0.0   \n",
      "1              0.0               0.0          0.0         0.0          0.0   \n",
      "2              0.0               0.0          0.0         0.0          0.0   \n",
      "3              0.0               0.0          0.0         0.0          0.0   \n",
      "4              0.0               0.0          0.0         0.0          0.0   \n",
      "\n",
      "   x0_Cairns  x0_Canberra  x0_Cobar  x0_CoffsHarbour  x0_Dartmoor  x0_Darwin  \\\n",
      "0        0.0          0.0       0.0              0.0          0.0        0.0   \n",
      "1        0.0          0.0       0.0              0.0          0.0        0.0   \n",
      "2        0.0          0.0       0.0              0.0          0.0        0.0   \n",
      "3        0.0          0.0       0.0              0.0          0.0        0.0   \n",
      "4        0.0          0.0       0.0              0.0          0.0        0.0   \n",
      "\n",
      "   x0_GoldCoast  x0_Hobart  x0_Katherine  x0_Launceston  x0_Melbourne  \\\n",
      "0           0.0        0.0           0.0            0.0           0.0   \n",
      "1           0.0        0.0           0.0            0.0           0.0   \n",
      "2           0.0        0.0           0.0            0.0           0.0   \n",
      "3           0.0        0.0           0.0            0.0           0.0   \n",
      "4           0.0        0.0           0.0            0.0           0.0   \n",
      "\n",
      "   x0_MelbourneAirport  x0_Mildura  x0_Moree  x0_MountGambier  x0_MountGinini  \\\n",
      "0                  0.0         0.0       0.0              0.0             0.0   \n",
      "1                  0.0         0.0       0.0              0.0             0.0   \n",
      "2                  0.0         0.0       0.0              0.0             0.0   \n",
      "3                  0.0         0.0       0.0              0.0             0.0   \n",
      "4                  0.0         1.0       0.0              0.0             0.0   \n",
      "\n",
      "   x0_Newcastle  x0_Nhil  x0_NorahHead  x0_NorfolkIsland  x0_Nuriootpa  \\\n",
      "0           0.0      0.0           0.0               0.0           0.0   \n",
      "1           0.0      0.0           0.0               0.0           0.0   \n",
      "2           0.0      0.0           0.0               0.0           0.0   \n",
      "3           0.0      0.0           0.0               0.0           0.0   \n",
      "4           0.0      0.0           0.0               0.0           0.0   \n",
      "\n",
      "   x0_PearceRAAF  x0_Perth  x0_PerthAirport  x0_Portland  x0_Richmond  \\\n",
      "0            0.0       0.0              0.0          0.0          0.0   \n",
      "1            0.0       0.0              0.0          0.0          0.0   \n",
      "2            0.0       0.0              0.0          0.0          0.0   \n",
      "3            0.0       0.0              0.0          0.0          0.0   \n",
      "4            0.0       0.0              0.0          0.0          0.0   \n",
      "\n",
      "   x0_Sale  x0_SalmonGums  x0_Sydney  x0_SydneyAirport  x0_Townsville  \\\n",
      "0      0.0            0.0        0.0               0.0            0.0   \n",
      "1      0.0            0.0        0.0               0.0            0.0   \n",
      "2      0.0            1.0        0.0               0.0            0.0   \n",
      "3      0.0            0.0        0.0               0.0            0.0   \n",
      "4      0.0            0.0        0.0               0.0            0.0   \n",
      "\n",
      "   x0_Tuggeranong  x0_Uluru  x0_WaggaWagga  x0_Walpole  x0_Watsonia  \\\n",
      "0             0.0       0.0            0.0         0.0          0.0   \n",
      "1             0.0       0.0            0.0         0.0          0.0   \n",
      "2             0.0       0.0            0.0         0.0          0.0   \n",
      "3             0.0       0.0            0.0         0.0          0.0   \n",
      "4             0.0       0.0            0.0         0.0          0.0   \n",
      "\n",
      "   x0_Williamtown  x0_Witchcliffe  x0_Wollongong  x0_Woomera  x1_E  x1_ENE  \\\n",
      "0             0.0             0.0            0.0         1.0   0.0     0.0   \n",
      "1             0.0             1.0            0.0         0.0   0.0     0.0   \n",
      "2             0.0             0.0            0.0         0.0   0.0     0.0   \n",
      "3             0.0             0.0            0.0         0.0   0.0     0.0   \n",
      "4             0.0             0.0            0.0         0.0   0.0     0.0   \n",
      "\n",
      "   x1_ESE  x1_N  x1_NE  x1_NNW  x1_NW  x1_S  x1_SE  x1_SSE  x1_SSW  x1_SW  \\\n",
      "0     0.0   0.0    0.0     0.0    0.0   1.0    0.0     0.0     0.0    0.0   \n",
      "1     0.0   0.0    0.0     0.0    0.0   0.0    0.0     1.0     0.0    0.0   \n",
      "2     0.0   0.0    0.0     0.0    0.0   0.0    0.0     0.0     0.0    0.0   \n",
      "3     0.0   0.0    0.0     0.0    0.0   0.0    0.0     0.0     0.0    0.0   \n",
      "4     0.0   1.0    0.0     0.0    0.0   0.0    0.0     0.0     0.0    0.0   \n",
      "\n",
      "   x1_W  x1_WNW  x1_WSW  x2_E  x2_ENE  x2_N  x2_NE  x2_NNE  x2_NNW  x2_NW  \\\n",
      "0   0.0     0.0     0.0   0.0     0.0   0.0    0.0     0.0     0.0    0.0   \n",
      "1   0.0     0.0     0.0   0.0     0.0   0.0    0.0     0.0     0.0    0.0   \n",
      "2   1.0     0.0     0.0   0.0     0.0   0.0    0.0     0.0     0.0    0.0   \n",
      "3   1.0     0.0     0.0   0.0     0.0   0.0    0.0     0.0     0.0    0.0   \n",
      "4   0.0     0.0     0.0   0.0     0.0   0.0    1.0     0.0     0.0    0.0   \n",
      "\n",
      "   x2_S  x2_SE  x2_SSE  x2_SSW  x2_SW  x2_W  x2_WNW  x2_WSW  x3_E  x3_ESE  \\\n",
      "0   0.0    0.0     0.0     0.0    0.0   0.0     0.0     0.0   0.0     0.0   \n",
      "1   1.0    0.0     0.0     0.0    0.0   0.0     0.0     0.0   0.0     0.0   \n",
      "2   0.0    0.0     0.0     0.0    0.0   0.0     1.0     0.0   0.0     0.0   \n",
      "3   0.0    0.0     0.0     1.0    0.0   0.0     0.0     0.0   0.0     0.0   \n",
      "4   0.0    0.0     0.0     0.0    0.0   0.0     0.0     0.0   0.0     0.0   \n",
      "\n",
      "   x3_N  x3_NE  x3_NNE  x3_NNW  x3_NW  x3_S  x3_SE  x3_SSE  x3_SSW  x3_SW  \\\n",
      "0   0.0    0.0     0.0     0.0    0.0   0.0    0.0     0.0     0.0    1.0   \n",
      "1   0.0    0.0     0.0     0.0    0.0   0.0    0.0     1.0     0.0    0.0   \n",
      "2   0.0    0.0     0.0     0.0    0.0   0.0    0.0     0.0     0.0    0.0   \n",
      "3   0.0    0.0     0.0     0.0    0.0   0.0    0.0     0.0     1.0    0.0   \n",
      "4   0.0    0.0     0.0     0.0    1.0   0.0    0.0     0.0     0.0    0.0   \n",
      "\n",
      "   x3_W  x3_WNW  x3_WSW  x4_Yes  \n",
      "0   0.0     0.0     0.0     0.0  \n",
      "1   0.0     0.0     0.0     0.0  \n",
      "2   1.0     0.0     0.0     0.0  \n",
      "3   0.0     0.0     0.0     0.0  \n",
      "4   0.0     0.0     0.0     0.0  \n"
     ]
    }
   ],
   "source": [
    "categorical_data = X_train[['Location','WindGustDir','WindDir9am','WindDir3pm','RainToday']]\n",
    "    \n",
    "ohe = OneHotEncoder()\n",
    "\n",
    "# Fit the dummy variables to an array\n",
    "X = ohe.fit_transform(categorical_data.values).toarray()\n",
    "y = ohe.get_feature_names()\n",
    "\n",
    "# To add this back into the original dataframe \n",
    "dfOneHot = pd.DataFrame(X, columns = y) \n",
    "X_train = pd.concat([X_train, dfOneHot], axis=1)\n",
    "\n",
    "# Dropping the base columns, and to avoid multicollinearity, dropping one of each new dummy column \n",
    "X_train = X_train.drop(['Location','WindGustDir','WindDir9am','WindDir3pm','RainToday','x0_Albany','x0_Penrith','x1_NNE','x2_ESE','x3_ENE','x4_No'], axis=1) \n",
    "\n",
    "# Printing to verify \n",
    "print(X_train.head())"
   ]
  },
  {
   "cell_type": "code",
   "execution_count": 50,
   "id": "1fe165cc",
   "metadata": {
    "scrolled": true
   },
   "outputs": [],
   "source": [
    "# Imputing remaining columns based on mean, from our charts in section 2\n",
    "\n",
    "imputer = SimpleImputer(strategy='most_frequent', missing_values=np.nan)\n",
    "imputer = imputer.fit(X_train)\n",
    "X_train.iloc[:,:] = imputer.transform(X_train)"
   ]
  },
  {
   "cell_type": "code",
   "execution_count": 51,
   "id": "fb6deee7",
   "metadata": {
    "scrolled": true
   },
   "outputs": [
    {
     "name": "stdout",
     "output_type": "stream",
     "text": [
      "<class 'pandas.core.frame.DataFrame'>\n",
      "RangeIndex: 106644 entries, 0 to 106643\n",
      "Data columns (total 109 columns):\n",
      " #   Column               Non-Null Count   Dtype  \n",
      "---  ------               --------------   -----  \n",
      " 0   MinTemp              106644 non-null  float64\n",
      " 1   MaxTemp              106644 non-null  float64\n",
      " 2   Rainfall             106644 non-null  float64\n",
      " 3   Evaporation          106644 non-null  float64\n",
      " 4   Sunshine             106644 non-null  float64\n",
      " 5   WindGustSpeed        106644 non-null  float64\n",
      " 6   WindSpeed9am         106644 non-null  float64\n",
      " 7   WindSpeed3pm         106644 non-null  float64\n",
      " 8   Humidity9am          106644 non-null  float64\n",
      " 9   Humidity3pm          106644 non-null  float64\n",
      " 10  Pressure9am          106644 non-null  float64\n",
      " 11  Pressure3pm          106644 non-null  float64\n",
      " 12  Cloud9am             106644 non-null  float64\n",
      " 13  Cloud3pm             106644 non-null  float64\n",
      " 14  Temp9am              106644 non-null  float64\n",
      " 15  Temp3pm              106644 non-null  float64\n",
      " 16  x0_Adelaide          106644 non-null  float64\n",
      " 17  x0_Albury            106644 non-null  float64\n",
      " 18  x0_AliceSprings      106644 non-null  float64\n",
      " 19  x0_BadgerysCreek     106644 non-null  float64\n",
      " 20  x0_Ballarat          106644 non-null  float64\n",
      " 21  x0_Bendigo           106644 non-null  float64\n",
      " 22  x0_Brisbane          106644 non-null  float64\n",
      " 23  x0_Cairns            106644 non-null  float64\n",
      " 24  x0_Canberra          106644 non-null  float64\n",
      " 25  x0_Cobar             106644 non-null  float64\n",
      " 26  x0_CoffsHarbour      106644 non-null  float64\n",
      " 27  x0_Dartmoor          106644 non-null  float64\n",
      " 28  x0_Darwin            106644 non-null  float64\n",
      " 29  x0_GoldCoast         106644 non-null  float64\n",
      " 30  x0_Hobart            106644 non-null  float64\n",
      " 31  x0_Katherine         106644 non-null  float64\n",
      " 32  x0_Launceston        106644 non-null  float64\n",
      " 33  x0_Melbourne         106644 non-null  float64\n",
      " 34  x0_MelbourneAirport  106644 non-null  float64\n",
      " 35  x0_Mildura           106644 non-null  float64\n",
      " 36  x0_Moree             106644 non-null  float64\n",
      " 37  x0_MountGambier      106644 non-null  float64\n",
      " 38  x0_MountGinini       106644 non-null  float64\n",
      " 39  x0_Newcastle         106644 non-null  float64\n",
      " 40  x0_Nhil              106644 non-null  float64\n",
      " 41  x0_NorahHead         106644 non-null  float64\n",
      " 42  x0_NorfolkIsland     106644 non-null  float64\n",
      " 43  x0_Nuriootpa         106644 non-null  float64\n",
      " 44  x0_PearceRAAF        106644 non-null  float64\n",
      " 45  x0_Perth             106644 non-null  float64\n",
      " 46  x0_PerthAirport      106644 non-null  float64\n",
      " 47  x0_Portland          106644 non-null  float64\n",
      " 48  x0_Richmond          106644 non-null  float64\n",
      " 49  x0_Sale              106644 non-null  float64\n",
      " 50  x0_SalmonGums        106644 non-null  float64\n",
      " 51  x0_Sydney            106644 non-null  float64\n",
      " 52  x0_SydneyAirport     106644 non-null  float64\n",
      " 53  x0_Townsville        106644 non-null  float64\n",
      " 54  x0_Tuggeranong       106644 non-null  float64\n",
      " 55  x0_Uluru             106644 non-null  float64\n",
      " 56  x0_WaggaWagga        106644 non-null  float64\n",
      " 57  x0_Walpole           106644 non-null  float64\n",
      " 58  x0_Watsonia          106644 non-null  float64\n",
      " 59  x0_Williamtown       106644 non-null  float64\n",
      " 60  x0_Witchcliffe       106644 non-null  float64\n",
      " 61  x0_Wollongong        106644 non-null  float64\n",
      " 62  x0_Woomera           106644 non-null  float64\n",
      " 63  x1_E                 106644 non-null  float64\n",
      " 64  x1_ENE               106644 non-null  float64\n",
      " 65  x1_ESE               106644 non-null  float64\n",
      " 66  x1_N                 106644 non-null  float64\n",
      " 67  x1_NE                106644 non-null  float64\n",
      " 68  x1_NNW               106644 non-null  float64\n",
      " 69  x1_NW                106644 non-null  float64\n",
      " 70  x1_S                 106644 non-null  float64\n",
      " 71  x1_SE                106644 non-null  float64\n",
      " 72  x1_SSE               106644 non-null  float64\n",
      " 73  x1_SSW               106644 non-null  float64\n",
      " 74  x1_SW                106644 non-null  float64\n",
      " 75  x1_W                 106644 non-null  float64\n",
      " 76  x1_WNW               106644 non-null  float64\n",
      " 77  x1_WSW               106644 non-null  float64\n",
      " 78  x2_E                 106644 non-null  float64\n",
      " 79  x2_ENE               106644 non-null  float64\n",
      " 80  x2_N                 106644 non-null  float64\n",
      " 81  x2_NE                106644 non-null  float64\n",
      " 82  x2_NNE               106644 non-null  float64\n",
      " 83  x2_NNW               106644 non-null  float64\n",
      " 84  x2_NW                106644 non-null  float64\n",
      " 85  x2_S                 106644 non-null  float64\n",
      " 86  x2_SE                106644 non-null  float64\n",
      " 87  x2_SSE               106644 non-null  float64\n",
      " 88  x2_SSW               106644 non-null  float64\n",
      " 89  x2_SW                106644 non-null  float64\n",
      " 90  x2_W                 106644 non-null  float64\n",
      " 91  x2_WNW               106644 non-null  float64\n",
      " 92  x2_WSW               106644 non-null  float64\n",
      " 93  x3_E                 106644 non-null  float64\n",
      " 94  x3_ESE               106644 non-null  float64\n",
      " 95  x3_N                 106644 non-null  float64\n",
      " 96  x3_NE                106644 non-null  float64\n",
      " 97  x3_NNE               106644 non-null  float64\n",
      " 98  x3_NNW               106644 non-null  float64\n",
      " 99  x3_NW                106644 non-null  float64\n",
      " 100 x3_S                 106644 non-null  float64\n",
      " 101 x3_SE                106644 non-null  float64\n",
      " 102 x3_SSE               106644 non-null  float64\n",
      " 103 x3_SSW               106644 non-null  float64\n",
      " 104 x3_SW                106644 non-null  float64\n",
      " 105 x3_W                 106644 non-null  float64\n",
      " 106 x3_WNW               106644 non-null  float64\n",
      " 107 x3_WSW               106644 non-null  float64\n",
      " 108 x4_Yes               106644 non-null  float64\n",
      "dtypes: float64(109)\n",
      "memory usage: 88.7 MB\n"
     ]
    }
   ],
   "source": [
    "X_train.info(1, null_counts=True)"
   ]
  },
  {
   "cell_type": "code",
   "execution_count": 52,
   "id": "4f061817",
   "metadata": {},
   "outputs": [
    {
     "data": {
      "text/plain": [
       "106644"
      ]
     },
     "execution_count": 52,
     "metadata": {},
     "output_type": "execute_result"
    }
   ],
   "source": [
    "y_train.count()"
   ]
  },
  {
   "cell_type": "code",
   "execution_count": 53,
   "id": "8c094c90",
   "metadata": {},
   "outputs": [
    {
     "name": "stdout",
     "output_type": "stream",
     "text": [
      "<class 'pandas.core.frame.DataFrame'>\n",
      "RangeIndex: 35549 entries, 0 to 35548\n",
      "Data columns (total 22 columns):\n",
      " #   Column         Non-Null Count  Dtype  \n",
      "---  ------         --------------  -----  \n",
      " 0   Date           35549 non-null  object \n",
      " 1   Location       35549 non-null  object \n",
      " 2   MinTemp        35406 non-null  float64\n",
      " 3   MaxTemp        35484 non-null  float64\n",
      " 4   Rainfall       35247 non-null  float64\n",
      " 5   Evaporation    20441 non-null  float64\n",
      " 6   Sunshine       18700 non-null  float64\n",
      " 7   WindGustDir    33198 non-null  object \n",
      " 8   WindGustSpeed  33208 non-null  float64\n",
      " 9   WindDir9am     33060 non-null  object \n",
      " 10  WindDir3pm     34593 non-null  object \n",
      " 11  WindSpeed9am   35199 non-null  float64\n",
      " 12  WindSpeed3pm   34882 non-null  float64\n",
      " 13  Humidity9am    35093 non-null  float64\n",
      " 14  Humidity3pm    34666 non-null  float64\n",
      " 15  Pressure9am    32081 non-null  float64\n",
      " 16  Pressure3pm    32089 non-null  float64\n",
      " 17  Cloud9am       22251 non-null  float64\n",
      " 18  Cloud3pm       21342 non-null  float64\n",
      " 19  Temp9am        35322 non-null  float64\n",
      " 20  Temp3pm        34888 non-null  float64\n",
      " 21  RainToday      35247 non-null  object \n",
      "dtypes: float64(16), object(6)\n",
      "memory usage: 6.0+ MB\n"
     ]
    }
   ],
   "source": [
    "X_test.info(1, null_counts=True)"
   ]
  },
  {
   "cell_type": "code",
   "execution_count": 54,
   "id": "24abf805",
   "metadata": {},
   "outputs": [],
   "source": [
    "X_test.reset_index(inplace=True)"
   ]
  },
  {
   "cell_type": "code",
   "execution_count": 55,
   "id": "11aa3ddc",
   "metadata": {},
   "outputs": [],
   "source": [
    "X_test = X_test.drop(columns=['index'],axis=1)"
   ]
  },
  {
   "cell_type": "code",
   "execution_count": 56,
   "id": "5f3b7291",
   "metadata": {},
   "outputs": [],
   "source": [
    "# Performing same imputations as train data\n",
    "\n",
    "X_test['Sunshine'] = np.where(((X_test['Sunshine'].isna()) & (X_test['RainToday'] == 1.0)), 0.0, X_test[\"Sunshine\"])\n",
    "X_test['Sunshine'] = np.where(((X_test['Sunshine'].isna()) & (X_test['RainToday'] == 0.0)), 7.0, X_test[\"Sunshine\"])\n",
    "X_test['Evaporation'] = np.where(((X_test['Evaporation'].isna()) & (X_test['Sunshine'] == 0.0)), 0.0, X_test[\"Evaporation\"])\n",
    "X_test['Evaporation'] = np.where(((X_test['Evaporation'].isna()) & (X_test['Sunshine'] > 0.0)), 5.0, X_test[\"Evaporation\"])\n",
    "X_test['Cloud9am'] = np.where(((X_test['Cloud9am'].isna()) & (X_test['RainToday'] == 1.0)), 8.0, X_test[\"Cloud9am\"])\n",
    "X_test['Cloud3pm'] = np.where(((X_test['Cloud3pm'].isna()) & (X_test['RainToday'] == 1.0)), 7.0, X_test[\"Cloud3pm\"])\n",
    "X_test['Cloud9am'] = np.where(((X_test['Cloud9am'].isna()) & (X_test['RainToday'] == 0.0) & (X_test['Humidity9am']<=70.0)), 1.0, X_test[\"Cloud9am\"])\n",
    "X_test['Cloud9am'] = np.where(((X_test['Cloud9am'].isna()) & (X_test['RainToday'] == 0.0) & (X_test['Humidity9am']>70.0)), 7.0, X_test[\"Cloud9am\"])\n",
    "X_test['Cloud3pm'] = np.where(((X_test['Cloud3pm'].isna()) & (X_test['RainToday'] == 0.0) & (X_test['Humidity3pm']<=70.0)), 1.0, X_test[\"Cloud3pm\"])\n",
    "X_test['Cloud3pm'] = np.where(((X_test['Cloud3pm'].isna()) & (X_test['RainToday'] == 0.0) & (X_test['Humidity3pm']>70.0)), 8.0, X_test[\"Cloud3pm\"])"
   ]
  },
  {
   "cell_type": "code",
   "execution_count": 57,
   "id": "56b7f251",
   "metadata": {},
   "outputs": [],
   "source": [
    "# Performing same imputations as train data\n",
    "\n",
    "imputer = SimpleImputer(strategy='most_frequent')\n",
    "imputer = imputer.fit(X_test)\n",
    "X_test.iloc[:,:] = imputer.transform(X_test)"
   ]
  },
  {
   "cell_type": "code",
   "execution_count": 58,
   "id": "d48965b2",
   "metadata": {},
   "outputs": [
    {
     "name": "stdout",
     "output_type": "stream",
     "text": [
      "   MinTemp  MaxTemp  Rainfall  Evaporation  Sunshine  WindGustSpeed  \\\n",
      "0      7.1     13.0       8.8          5.0       0.0           41.0   \n",
      "1     13.2     18.3       0.0          5.0       0.0           48.0   \n",
      "2      9.2     22.7       0.0          5.0      11.1           52.0   \n",
      "3     15.3     26.1       0.0         10.4       0.0           44.0   \n",
      "4     11.9     31.8       0.0          5.0       4.1           72.0   \n",
      "\n",
      "   WindSpeed9am  WindSpeed3pm  Humidity9am  Humidity3pm  Pressure9am  \\\n",
      "0          24.0          22.0        100.0         98.0       1001.7   \n",
      "1          24.0          20.0         73.0         73.0       1027.6   \n",
      "2          26.0          20.0         45.0         25.0       1030.1   \n",
      "3          24.0          19.0         48.0         40.0       1013.2   \n",
      "4           6.0          19.0         89.0         25.0       1006.7   \n",
      "\n",
      "   Pressure3pm  Cloud9am  Cloud3pm  Temp9am  Temp3pm  x0_Adelaide  x0_Albury  \\\n",
      "0       1005.4       8.0       8.0      8.6     11.5          0.0        0.0   \n",
      "1       1023.8       7.0       7.0     14.2     17.0          0.0        0.0   \n",
      "2       1025.9       0.0       0.0     15.1     22.5          0.0        0.0   \n",
      "3       1009.8       7.0       7.0     17.5     24.3          0.0        0.0   \n",
      "4       1001.0       7.0       6.0     16.2     27.4          0.0        0.0   \n",
      "\n",
      "   x0_AliceSprings  x0_BadgerysCreek  x0_Ballarat  x0_Bendigo  x0_Brisbane  \\\n",
      "0              0.0               0.0          1.0         0.0          0.0   \n",
      "1              0.0               0.0          0.0         0.0          0.0   \n",
      "2              0.0               0.0          0.0         0.0          0.0   \n",
      "3              0.0               0.0          0.0         0.0          0.0   \n",
      "4              0.0               0.0          0.0         0.0          0.0   \n",
      "\n",
      "   x0_Cairns  x0_Canberra  x0_Cobar  x0_CoffsHarbour  x0_Dartmoor  x0_Darwin  \\\n",
      "0        0.0          0.0       0.0              0.0          0.0        0.0   \n",
      "1        0.0          0.0       0.0              0.0          0.0        0.0   \n",
      "2        0.0          0.0       0.0              0.0          0.0        0.0   \n",
      "3        0.0          0.0       1.0              0.0          0.0        0.0   \n",
      "4        0.0          0.0       0.0              0.0          0.0        0.0   \n",
      "\n",
      "   x0_GoldCoast  x0_Hobart  x0_Katherine  x0_Launceston  x0_Melbourne  \\\n",
      "0           0.0        0.0           0.0            0.0           0.0   \n",
      "1           0.0        0.0           0.0            0.0           0.0   \n",
      "2           0.0        0.0           0.0            0.0           0.0   \n",
      "3           0.0        0.0           0.0            0.0           0.0   \n",
      "4           0.0        0.0           0.0            0.0           0.0   \n",
      "\n",
      "   x0_MelbourneAirport  x0_Mildura  x0_Moree  x0_MountGambier  x0_MountGinini  \\\n",
      "0                  0.0         0.0       0.0              0.0             0.0   \n",
      "1                  0.0         0.0       0.0              0.0             0.0   \n",
      "2                  0.0         0.0       0.0              0.0             0.0   \n",
      "3                  0.0         0.0       0.0              0.0             0.0   \n",
      "4                  0.0         0.0       0.0              0.0             0.0   \n",
      "\n",
      "   x0_Newcastle  x0_Nhil  x0_NorahHead  x0_NorfolkIsland  x0_Nuriootpa  \\\n",
      "0           0.0      0.0           0.0               0.0           0.0   \n",
      "1           0.0      0.0           0.0               0.0           0.0   \n",
      "2           0.0      0.0           0.0               0.0           0.0   \n",
      "3           0.0      0.0           0.0               0.0           0.0   \n",
      "4           0.0      0.0           0.0               0.0           0.0   \n",
      "\n",
      "   x0_PearceRAAF  x0_Perth  x0_PerthAirport  x0_Portland  x0_Richmond  \\\n",
      "0            0.0       0.0              0.0          0.0          0.0   \n",
      "1            0.0       0.0              0.0          0.0          0.0   \n",
      "2            0.0       0.0              1.0          0.0          0.0   \n",
      "3            0.0       0.0              0.0          0.0          0.0   \n",
      "4            0.0       0.0              0.0          0.0          0.0   \n",
      "\n",
      "   x0_Sale  x0_SalmonGums  x0_Sydney  x0_SydneyAirport  x0_Townsville  \\\n",
      "0      0.0            0.0        0.0               0.0            0.0   \n",
      "1      0.0            0.0        0.0               0.0            0.0   \n",
      "2      0.0            0.0        0.0               0.0            0.0   \n",
      "3      0.0            0.0        0.0               0.0            0.0   \n",
      "4      1.0            0.0        0.0               0.0            0.0   \n",
      "\n",
      "   x0_Tuggeranong  x0_Uluru  x0_WaggaWagga  x0_Walpole  x0_Watsonia  \\\n",
      "0             0.0       0.0            0.0         0.0          0.0   \n",
      "1             0.0       0.0            0.0         1.0          0.0   \n",
      "2             0.0       0.0            0.0         0.0          0.0   \n",
      "3             0.0       0.0            0.0         0.0          0.0   \n",
      "4             0.0       0.0            0.0         0.0          0.0   \n",
      "\n",
      "   x0_Williamtown  x0_Witchcliffe  x0_Wollongong  x0_Woomera  x1_E  x1_ENE  \\\n",
      "0             0.0             0.0            0.0         0.0   0.0     0.0   \n",
      "1             0.0             0.0            0.0         0.0   1.0     0.0   \n",
      "2             0.0             0.0            0.0         0.0   0.0     1.0   \n",
      "3             0.0             0.0            0.0         0.0   1.0     0.0   \n",
      "4             0.0             0.0            0.0         0.0   0.0     0.0   \n",
      "\n",
      "   x1_ESE  x1_N  x1_NE  x1_NNW  x1_NW  x1_S  x1_SE  x1_SSE  x1_SSW  x1_SW  \\\n",
      "0     0.0   1.0    0.0     0.0    0.0   0.0    0.0     0.0     0.0    0.0   \n",
      "1     0.0   0.0    0.0     0.0    0.0   0.0    0.0     0.0     0.0    0.0   \n",
      "2     0.0   0.0    0.0     0.0    0.0   0.0    0.0     0.0     0.0    0.0   \n",
      "3     0.0   0.0    0.0     0.0    0.0   0.0    0.0     0.0     0.0    0.0   \n",
      "4     0.0   0.0    0.0     0.0    1.0   0.0    0.0     0.0     0.0    0.0   \n",
      "\n",
      "   x1_W  x1_WNW  x1_WSW  x2_E  x2_ENE  x2_N  x2_NE  x2_NNE  x2_NNW  x2_NW  \\\n",
      "0   0.0     0.0     0.0   0.0     0.0   1.0    0.0     0.0     0.0    0.0   \n",
      "1   0.0     0.0     0.0   0.0     0.0   0.0    0.0     0.0     0.0    0.0   \n",
      "2   0.0     0.0     0.0   0.0     1.0   0.0    0.0     0.0     0.0    0.0   \n",
      "3   0.0     0.0     0.0   1.0     0.0   0.0    0.0     0.0     0.0    0.0   \n",
      "4   0.0     0.0     0.0   1.0     0.0   0.0    0.0     0.0     0.0    0.0   \n",
      "\n",
      "   x2_S  x2_SE  x2_SSE  x2_SSW  x2_SW  x2_W  x2_WNW  x2_WSW  x3_E  x3_ESE  \\\n",
      "0   0.0    0.0     0.0     0.0    0.0   0.0     0.0     0.0   0.0     0.0   \n",
      "1   0.0    0.0     0.0     0.0    0.0   0.0     0.0     0.0   0.0     1.0   \n",
      "2   0.0    0.0     0.0     0.0    0.0   0.0     0.0     0.0   0.0     1.0   \n",
      "3   0.0    0.0     0.0     0.0    0.0   0.0     0.0     0.0   0.0     0.0   \n",
      "4   0.0    0.0     0.0     0.0    0.0   0.0     0.0     0.0   0.0     0.0   \n",
      "\n",
      "   x3_N  x3_NE  x3_NNE  x3_NNW  x3_NW  x3_S  x3_SE  x3_SSE  x3_SSW  x3_SW  \\\n",
      "0   0.0    0.0     0.0     0.0    0.0   0.0    0.0     0.0     0.0    0.0   \n",
      "1   0.0    0.0     0.0     0.0    0.0   0.0    0.0     0.0     0.0    0.0   \n",
      "2   0.0    0.0     0.0     0.0    0.0   0.0    0.0     0.0     0.0    0.0   \n",
      "3   0.0    1.0     0.0     0.0    0.0   0.0    0.0     0.0     0.0    0.0   \n",
      "4   1.0    0.0     0.0     0.0    0.0   0.0    0.0     0.0     0.0    0.0   \n",
      "\n",
      "   x3_W  x3_WNW  x3_WSW  x4_Yes  \n",
      "0   0.0     1.0     0.0     1.0  \n",
      "1   0.0     0.0     0.0     0.0  \n",
      "2   0.0     0.0     0.0     0.0  \n",
      "3   0.0     0.0     0.0     0.0  \n",
      "4   0.0     0.0     0.0     0.0  \n"
     ]
    }
   ],
   "source": [
    "categorical_data = X_test[['Location','WindGustDir','WindDir9am','WindDir3pm','RainToday']]\n",
    "    \n",
    "ohe = OneHotEncoder()\n",
    "\n",
    "# Fit the dummy variables to an array\n",
    "X = ohe.fit_transform(categorical_data.values).toarray()\n",
    "y = ohe.get_feature_names()\n",
    "\n",
    "# To add this back into the original dataframe \n",
    "dfOneHot = pd.DataFrame(X, columns = y) \n",
    "X_test = pd.concat([X_test, dfOneHot], axis=1)\n",
    "\n",
    "# Dropping the country column \n",
    "X_test = X_test.drop(['Date','Location','WindGustDir','WindDir9am','WindDir3pm','RainToday','x0_Albany','x0_Penrith','x1_NNE','x2_ESE','x3_ENE','x4_No'], axis=1) \n",
    "\n",
    "# Printing to verify \n",
    "print(X_test.head())"
   ]
  },
  {
   "cell_type": "code",
   "execution_count": 59,
   "id": "1dd0e21f",
   "metadata": {},
   "outputs": [
    {
     "name": "stdout",
     "output_type": "stream",
     "text": [
      "<class 'pandas.core.frame.DataFrame'>\n",
      "RangeIndex: 35549 entries, 0 to 35548\n",
      "Data columns (total 109 columns):\n",
      " #   Column               Non-Null Count  Dtype  \n",
      "---  ------               --------------  -----  \n",
      " 0   MinTemp              35549 non-null  float64\n",
      " 1   MaxTemp              35549 non-null  float64\n",
      " 2   Rainfall             35549 non-null  float64\n",
      " 3   Evaporation          35549 non-null  float64\n",
      " 4   Sunshine             35549 non-null  float64\n",
      " 5   WindGustSpeed        35549 non-null  float64\n",
      " 6   WindSpeed9am         35549 non-null  float64\n",
      " 7   WindSpeed3pm         35549 non-null  float64\n",
      " 8   Humidity9am          35549 non-null  float64\n",
      " 9   Humidity3pm          35549 non-null  float64\n",
      " 10  Pressure9am          35549 non-null  float64\n",
      " 11  Pressure3pm          35549 non-null  float64\n",
      " 12  Cloud9am             35549 non-null  float64\n",
      " 13  Cloud3pm             35549 non-null  float64\n",
      " 14  Temp9am              35549 non-null  float64\n",
      " 15  Temp3pm              35549 non-null  float64\n",
      " 16  x0_Adelaide          35549 non-null  float64\n",
      " 17  x0_Albury            35549 non-null  float64\n",
      " 18  x0_AliceSprings      35549 non-null  float64\n",
      " 19  x0_BadgerysCreek     35549 non-null  float64\n",
      " 20  x0_Ballarat          35549 non-null  float64\n",
      " 21  x0_Bendigo           35549 non-null  float64\n",
      " 22  x0_Brisbane          35549 non-null  float64\n",
      " 23  x0_Cairns            35549 non-null  float64\n",
      " 24  x0_Canberra          35549 non-null  float64\n",
      " 25  x0_Cobar             35549 non-null  float64\n",
      " 26  x0_CoffsHarbour      35549 non-null  float64\n",
      " 27  x0_Dartmoor          35549 non-null  float64\n",
      " 28  x0_Darwin            35549 non-null  float64\n",
      " 29  x0_GoldCoast         35549 non-null  float64\n",
      " 30  x0_Hobart            35549 non-null  float64\n",
      " 31  x0_Katherine         35549 non-null  float64\n",
      " 32  x0_Launceston        35549 non-null  float64\n",
      " 33  x0_Melbourne         35549 non-null  float64\n",
      " 34  x0_MelbourneAirport  35549 non-null  float64\n",
      " 35  x0_Mildura           35549 non-null  float64\n",
      " 36  x0_Moree             35549 non-null  float64\n",
      " 37  x0_MountGambier      35549 non-null  float64\n",
      " 38  x0_MountGinini       35549 non-null  float64\n",
      " 39  x0_Newcastle         35549 non-null  float64\n",
      " 40  x0_Nhil              35549 non-null  float64\n",
      " 41  x0_NorahHead         35549 non-null  float64\n",
      " 42  x0_NorfolkIsland     35549 non-null  float64\n",
      " 43  x0_Nuriootpa         35549 non-null  float64\n",
      " 44  x0_PearceRAAF        35549 non-null  float64\n",
      " 45  x0_Perth             35549 non-null  float64\n",
      " 46  x0_PerthAirport      35549 non-null  float64\n",
      " 47  x0_Portland          35549 non-null  float64\n",
      " 48  x0_Richmond          35549 non-null  float64\n",
      " 49  x0_Sale              35549 non-null  float64\n",
      " 50  x0_SalmonGums        35549 non-null  float64\n",
      " 51  x0_Sydney            35549 non-null  float64\n",
      " 52  x0_SydneyAirport     35549 non-null  float64\n",
      " 53  x0_Townsville        35549 non-null  float64\n",
      " 54  x0_Tuggeranong       35549 non-null  float64\n",
      " 55  x0_Uluru             35549 non-null  float64\n",
      " 56  x0_WaggaWagga        35549 non-null  float64\n",
      " 57  x0_Walpole           35549 non-null  float64\n",
      " 58  x0_Watsonia          35549 non-null  float64\n",
      " 59  x0_Williamtown       35549 non-null  float64\n",
      " 60  x0_Witchcliffe       35549 non-null  float64\n",
      " 61  x0_Wollongong        35549 non-null  float64\n",
      " 62  x0_Woomera           35549 non-null  float64\n",
      " 63  x1_E                 35549 non-null  float64\n",
      " 64  x1_ENE               35549 non-null  float64\n",
      " 65  x1_ESE               35549 non-null  float64\n",
      " 66  x1_N                 35549 non-null  float64\n",
      " 67  x1_NE                35549 non-null  float64\n",
      " 68  x1_NNW               35549 non-null  float64\n",
      " 69  x1_NW                35549 non-null  float64\n",
      " 70  x1_S                 35549 non-null  float64\n",
      " 71  x1_SE                35549 non-null  float64\n",
      " 72  x1_SSE               35549 non-null  float64\n",
      " 73  x1_SSW               35549 non-null  float64\n",
      " 74  x1_SW                35549 non-null  float64\n",
      " 75  x1_W                 35549 non-null  float64\n",
      " 76  x1_WNW               35549 non-null  float64\n",
      " 77  x1_WSW               35549 non-null  float64\n",
      " 78  x2_E                 35549 non-null  float64\n",
      " 79  x2_ENE               35549 non-null  float64\n",
      " 80  x2_N                 35549 non-null  float64\n",
      " 81  x2_NE                35549 non-null  float64\n",
      " 82  x2_NNE               35549 non-null  float64\n",
      " 83  x2_NNW               35549 non-null  float64\n",
      " 84  x2_NW                35549 non-null  float64\n",
      " 85  x2_S                 35549 non-null  float64\n",
      " 86  x2_SE                35549 non-null  float64\n",
      " 87  x2_SSE               35549 non-null  float64\n",
      " 88  x2_SSW               35549 non-null  float64\n",
      " 89  x2_SW                35549 non-null  float64\n",
      " 90  x2_W                 35549 non-null  float64\n",
      " 91  x2_WNW               35549 non-null  float64\n",
      " 92  x2_WSW               35549 non-null  float64\n",
      " 93  x3_E                 35549 non-null  float64\n",
      " 94  x3_ESE               35549 non-null  float64\n",
      " 95  x3_N                 35549 non-null  float64\n",
      " 96  x3_NE                35549 non-null  float64\n",
      " 97  x3_NNE               35549 non-null  float64\n",
      " 98  x3_NNW               35549 non-null  float64\n",
      " 99  x3_NW                35549 non-null  float64\n",
      " 100 x3_S                 35549 non-null  float64\n",
      " 101 x3_SE                35549 non-null  float64\n",
      " 102 x3_SSE               35549 non-null  float64\n",
      " 103 x3_SSW               35549 non-null  float64\n",
      " 104 x3_SW                35549 non-null  float64\n",
      " 105 x3_W                 35549 non-null  float64\n",
      " 106 x3_WNW               35549 non-null  float64\n",
      " 107 x3_WSW               35549 non-null  float64\n",
      " 108 x4_Yes               35549 non-null  float64\n",
      "dtypes: float64(109)\n",
      "memory usage: 29.6 MB\n"
     ]
    }
   ],
   "source": [
    "X_test.info(1, null_counts=True)"
   ]
  },
  {
   "cell_type": "code",
   "execution_count": 60,
   "id": "49d850f4",
   "metadata": {
    "scrolled": true
   },
   "outputs": [
    {
     "data": {
      "text/plain": [
       "35549"
      ]
     },
     "execution_count": 60,
     "metadata": {},
     "output_type": "execute_result"
    }
   ],
   "source": [
    "y_test.count()"
   ]
  },
  {
   "cell_type": "markdown",
   "id": "20003610",
   "metadata": {},
   "source": [
    "# Section 4: Modeling\n",
    "\n",
    "To begin, I will build a logistic model. After that, I will be building a kNN model and a decision tree model, and will pick the best model from the three. \n",
    "\n",
    "The metric I focus on the most will be recall, because if there are false negatives in my model, then it could rain on citizens who expected a dry day. As the Bureau of Meteorology has been underestimating rain over the past five years, we are trying to minimize false negatives as much as possible. "
   ]
  },
  {
   "cell_type": "markdown",
   "id": "52406271",
   "metadata": {},
   "source": [
    "#### Logistic Regression"
   ]
  },
  {
   "cell_type": "code",
   "execution_count": 61,
   "id": "e2219143",
   "metadata": {},
   "outputs": [],
   "source": [
    "# Create a Baseline Model\n",
    "\n",
    "logreg = LogisticRegression()\n",
    "model_log = logreg.fit(X_train, y_train)\n",
    "model_log.score(X_test,y_test)\n",
    "y_pred_lr = model_log.predict(X_test)"
   ]
  },
  {
   "cell_type": "code",
   "execution_count": 62,
   "id": "974ea5d1",
   "metadata": {},
   "outputs": [
    {
     "data": {
      "text/plain": [
       "0.4690890739338885"
      ]
     },
     "execution_count": 62,
     "metadata": {},
     "output_type": "execute_result"
    }
   ],
   "source": [
    "recall_score(y_test,y_pred_lr)"
   ]
  },
  {
   "cell_type": "markdown",
   "id": "90fcaa19",
   "metadata": {},
   "source": [
    "I will now run various models through a Pipeline to see if I can find a combination of parameters to bring down our performance metric."
   ]
  },
  {
   "cell_type": "code",
   "execution_count": 63,
   "id": "c950d498",
   "metadata": {},
   "outputs": [],
   "source": [
    "# Create pipeline\n",
    "\n",
    "lr_pipeline_1 = Pipeline([('ss', StandardScaler()), \n",
    "                              ('lr', LogisticRegression())])"
   ]
  },
  {
   "cell_type": "code",
   "execution_count": 64,
   "id": "a5ab3f6a",
   "metadata": {},
   "outputs": [],
   "source": [
    "# Create grid using GridSearchCV\n",
    "\n",
    "lr_grid = [{'lr__random_state':[42],\n",
    "         'lr__C': [1,1e2,1e3],\n",
    "         'lr__solver': ['saga','lbfgs']}]"
   ]
  },
  {
   "cell_type": "code",
   "execution_count": 65,
   "id": "c4fe6f48",
   "metadata": {},
   "outputs": [],
   "source": [
    "# Create grid using GridSearchCV\n",
    "\n",
    "lr_gridsearch = GridSearchCV(estimator=lr_pipeline_1, \n",
    "                          param_grid=lr_grid, \n",
    "                          scoring='recall', \n",
    "                          cv=3)"
   ]
  },
  {
   "cell_type": "code",
   "execution_count": 66,
   "id": "5ce049fb",
   "metadata": {},
   "outputs": [],
   "source": [
    "# Re-distributing our population using SMOTE, to account for accuracy bias\n",
    "\n",
    "smote = SMOTE()\n",
    "X_train_resampled, y_train_resampled = smote.fit_resample(X_train, y_train)"
   ]
  },
  {
   "cell_type": "code",
   "execution_count": 67,
   "id": "3b951a4b",
   "metadata": {},
   "outputs": [
    {
     "data": {
      "text/plain": [
       "1.0    82693\n",
       "0.0    82693\n",
       "Name: RainTomorrow, dtype: int64"
      ]
     },
     "execution_count": 67,
     "metadata": {},
     "output_type": "execute_result"
    }
   ],
   "source": [
    "y_train_resampled.value_counts()"
   ]
  },
  {
   "cell_type": "code",
   "execution_count": 68,
   "id": "2586ca28",
   "metadata": {},
   "outputs": [
    {
     "name": "stdout",
     "output_type": "stream",
     "text": [
      "0.7717638152914459\n"
     ]
    }
   ],
   "source": [
    "# Fit the training data\n",
    "lr_gridsearch.fit(X_train_resampled, y_train_resampled)\n",
    "print(lr_gridsearch.score(X_test, y_test))"
   ]
  },
  {
   "cell_type": "code",
   "execution_count": 69,
   "id": "cb368b9a",
   "metadata": {},
   "outputs": [
    {
     "name": "stdout",
     "output_type": "stream",
     "text": [
      "{'lr__C': 100.0, 'lr__random_state': 42, 'lr__solver': 'lbfgs'}\n"
     ]
    }
   ],
   "source": [
    "# Print best parameters\n",
    "\n",
    "print(lr_gridsearch.best_params_)"
   ]
  },
  {
   "cell_type": "code",
   "execution_count": 70,
   "id": "fabf9831",
   "metadata": {},
   "outputs": [
    {
     "data": {
      "image/png": "[encoded data removed]",
      "text/plain": [
       "<Figure size 432x288 with 2 Axes>"
      ]
     },
     "metadata": {
      "needs_background": "light"
     },
     "output_type": "display_data"
    }
   ],
   "source": [
    "# Create confusion matrix for baseline model \n",
    "\n",
    "plot_confusion_matrix(logreg, X_test, y_test,\n",
    "                     cmap=plt.cm.Blues)\n",
    "plt.grid(False)\n",
    "plt.savefig('Visualizations/LogRegBase.png', bbox_inches = 'tight')\n",
    "plt.show()"
   ]
  },
  {
   "cell_type": "code",
   "execution_count": 71,
   "id": "575dc45a",
   "metadata": {
    "scrolled": false
   },
   "outputs": [
    {
     "data": {
      "image/png": "[encoded data removed]",
      "text/plain": [
       "<Figure size 432x288 with 2 Axes>"
      ]
     },
     "metadata": {
      "needs_background": "light"
     },
     "output_type": "display_data"
    }
   ],
   "source": [
    "# Create confusion matrix for best model \n",
    "\n",
    "plot_confusion_matrix(lr_gridsearch, X_test, y_test,\n",
    "                     cmap=plt.cm.Blues)\n",
    "plt.grid(False)\n",
    "plt.savefig('Visualizations/LogRegBest.png', bbox_inches = 'tight')\n",
    "plt.show()"
   ]
  },
  {
   "cell_type": "markdown",
   "id": "d7cc102d",
   "metadata": {},
   "source": [
    "#### k-Nearest Neighbors"
   ]
  },
  {
   "cell_type": "code",
   "execution_count": 72,
   "id": "ac102f87",
   "metadata": {},
   "outputs": [],
   "source": [
    "# Create baseline model\n",
    "\n",
    "knn_baseline_model = KNeighborsClassifier()\n",
    "model_knn = knn_baseline_model.fit(X_train, y_train)\n",
    "model_knn.score(X_test,y_test)\n",
    "y_pred_knn = model_knn.predict(X_test)"
   ]
  },
  {
   "cell_type": "code",
   "execution_count": 73,
   "id": "bc366f48",
   "metadata": {},
   "outputs": [
    {
     "data": {
      "text/plain": [
       "0.5099671965682564"
      ]
     },
     "execution_count": 73,
     "metadata": {},
     "output_type": "execute_result"
    }
   ],
   "source": [
    "recall_score(y_test,y_pred_knn)"
   ]
  },
  {
   "cell_type": "markdown",
   "id": "788cdd53",
   "metadata": {},
   "source": [
    "Next, I will build a model using Pipeline and kNN to check score using a set of different parameters:"
   ]
  },
  {
   "cell_type": "code",
   "execution_count": 74,
   "id": "1cdf9fc5",
   "metadata": {},
   "outputs": [],
   "source": [
    "# Creating 3 different tests using different parameters\n",
    "\n",
    "knn_pipeline = Pipeline([('ss', StandardScaler()), \n",
    "                              ('knn', KNeighborsClassifier())])"
   ]
  },
  {
   "cell_type": "code",
   "execution_count": 75,
   "id": "869b7684",
   "metadata": {},
   "outputs": [],
   "source": [
    "# Create grid using GridSearchCV\n",
    "\n",
    "knn_grid = [{'knn__n_neighbors':[2,5,7,10]}]"
   ]
  },
  {
   "cell_type": "code",
   "execution_count": 76,
   "id": "be0d2548",
   "metadata": {},
   "outputs": [],
   "source": [
    "# Create grid using GridSearchCV\n",
    "\n",
    "knn_gridsearch = GridSearchCV(estimator=knn_pipeline, \n",
    "                          param_grid=knn_grid, \n",
    "                          scoring='recall', \n",
    "                          cv=3)"
   ]
  },
  {
   "cell_type": "code",
   "execution_count": 77,
   "id": "0db4c491",
   "metadata": {},
   "outputs": [
    {
     "name": "stdout",
     "output_type": "stream",
     "text": [
      "0.5425182942215493\n"
     ]
    }
   ],
   "source": [
    "# Fit the training data\n",
    "knn_gridsearch.fit(X_train_resampled, y_train_resampled)\n",
    "print(knn_gridsearch.score(X_test, y_test))"
   ]
  },
  {
   "cell_type": "code",
   "execution_count": 78,
   "id": "8f0d88be",
   "metadata": {},
   "outputs": [
    {
     "name": "stdout",
     "output_type": "stream",
     "text": [
      "{'knn__n_neighbors': 5}\n"
     ]
    }
   ],
   "source": [
    "print(knn_gridsearch.best_params_)"
   ]
  },
  {
   "cell_type": "code",
   "execution_count": 79,
   "id": "96490fe5",
   "metadata": {},
   "outputs": [
    {
     "data": {
      "image/png": "[encoded data removed]",
      "text/plain": [
       "<Figure size 432x288 with 2 Axes>"
      ]
     },
     "metadata": {
      "needs_background": "light"
     },
     "output_type": "display_data"
    }
   ],
   "source": [
    "# Create confusion matrix for baseline\n",
    "\n",
    "plot_confusion_matrix(knn_baseline_model, X_test, y_test,\n",
    "                     cmap=plt.cm.Blues)\n",
    "plt.grid(False)\n",
    "plt.savefig('Visualizations/KNNbaseline.png', bbox_inches = 'tight')\n",
    "plt.show()"
   ]
  },
  {
   "cell_type": "code",
   "execution_count": 80,
   "id": "9a6380b2",
   "metadata": {},
   "outputs": [
    {
     "data": {
      "image/png": "[encoded data removed]",
      "text/plain": [
       "<Figure size 432x288 with 2 Axes>"
      ]
     },
     "metadata": {
      "needs_background": "light"
     },
     "output_type": "display_data"
    }
   ],
   "source": [
    "# Create confusion matrix for best\n",
    "\n",
    "plot_confusion_matrix(knn_gridsearch, X_test, y_test,\n",
    "                     cmap=plt.cm.Blues)\n",
    "plt.grid(False)\n",
    "plt.savefig('Visualizations/KNNbest.png', bbox_inches = 'tight')\n",
    "plt.show()"
   ]
  },
  {
   "cell_type": "markdown",
   "id": "192f1cfb",
   "metadata": {},
   "source": [
    "As we can see above, our best model seems to cap at a score of around .548. I will now use decision trees and Grid Search CV to see if they generate a stronger model."
   ]
  },
  {
   "cell_type": "markdown",
   "id": "2b2f4e69",
   "metadata": {},
   "source": [
    "**Decision Trees**"
   ]
  },
  {
   "cell_type": "code",
   "execution_count": 81,
   "id": "be929387",
   "metadata": {},
   "outputs": [],
   "source": [
    "# Create a Baseline Model\n",
    "\n",
    "dt_base = DecisionTreeClassifier()\n",
    "model_dt = dt_base.fit(X_train, y_train)\n",
    "model_dt.score(X_test,y_test)\n",
    "y_pred_dt = model_dt.predict(X_test)"
   ]
  },
  {
   "cell_type": "code",
   "execution_count": 82,
   "id": "7ff106f5",
   "metadata": {},
   "outputs": [
    {
     "data": {
      "text/plain": [
       "0.5285137522079233"
      ]
     },
     "execution_count": 82,
     "metadata": {},
     "output_type": "execute_result"
    }
   ],
   "source": [
    "recall_score(y_test,y_pred_dt)"
   ]
  },
  {
   "cell_type": "code",
   "execution_count": 83,
   "id": "e9e7ee4b",
   "metadata": {},
   "outputs": [],
   "source": [
    "# Create pipeline\n",
    "\n",
    "dtree_pipeline = Pipeline([('ss', StandardScaler()), \n",
    "                              ('dt', DecisionTreeClassifier())])"
   ]
  },
  {
   "cell_type": "code",
   "execution_count": 84,
   "id": "76e20c08",
   "metadata": {},
   "outputs": [],
   "source": [
    "# Use GridSearchCV to create different models\n",
    "\n",
    "dt_grid = [{'dt__criterion': ['gini','entropy'], \n",
    "         'dt__max_leaf_nodes': [5,10,20,None],\n",
    "         'dt__max_features': ['auto','sqrt','log2', None],\n",
    "         'dt__random_state':[42]}]"
   ]
  },
  {
   "cell_type": "code",
   "execution_count": 85,
   "id": "0ba151b3",
   "metadata": {},
   "outputs": [],
   "source": [
    "# Use GridSearchCV to create different models\n",
    "\n",
    "dt_gridsearch = GridSearchCV(estimator=dtree_pipeline, \n",
    "                          param_grid=dt_grid, \n",
    "                          scoring='recall', \n",
    "                          cv=3)"
   ]
  },
  {
   "cell_type": "code",
   "execution_count": 86,
   "id": "8eba4005",
   "metadata": {},
   "outputs": [
    {
     "name": "stdout",
     "output_type": "stream",
     "text": [
      "0.6814282109512996\n"
     ]
    }
   ],
   "source": [
    "# Fit model and print\n",
    "\n",
    "dt_gridsearch.fit(X_train_resampled, y_train_resampled)\n",
    "print(dt_gridsearch.score(X_test, y_test))"
   ]
  },
  {
   "cell_type": "code",
   "execution_count": 87,
   "id": "6b85abbb",
   "metadata": {
    "scrolled": true
   },
   "outputs": [
    {
     "name": "stdout",
     "output_type": "stream",
     "text": [
      "{'dt__criterion': 'entropy', 'dt__max_features': 'log2', 'dt__max_leaf_nodes': 5, 'dt__random_state': 42}\n"
     ]
    }
   ],
   "source": [
    "print(dt_gridsearch.best_params_)"
   ]
  },
  {
   "cell_type": "code",
   "execution_count": 88,
   "id": "bf5af025",
   "metadata": {},
   "outputs": [
    {
     "data": {
      "image/png": "[encoded data removed]",
      "text/plain": [
       "<Figure size 432x288 with 2 Axes>"
      ]
     },
     "metadata": {
      "needs_background": "light"
     },
     "output_type": "display_data"
    }
   ],
   "source": [
    "# Create confusion matrix for baseline\n",
    "\n",
    "cm = plot_confusion_matrix(dt_base, X_test, y_test,\n",
    "                     cmap=plt.cm.Blues)\n",
    "plt.grid(False)\n",
    "plt.savefig('Visualizations/DT.png', bbox_inches = 'tight')\n",
    "plt.show()"
   ]
  },
  {
   "cell_type": "code",
   "execution_count": 89,
   "id": "7fda6602",
   "metadata": {
    "scrolled": true
   },
   "outputs": [
    {
     "data": {
      "image/png": "[encoded data removed]",
      "text/plain": [
       "<Figure size 432x288 with 2 Axes>"
      ]
     },
     "metadata": {
      "needs_background": "light"
     },
     "output_type": "display_data"
    }
   ],
   "source": [
    "# Create confusion matrix for best\n",
    "\n",
    "plot_confusion_matrix(dt_gridsearch, X_test, y_test,\n",
    "                     cmap=plt.cm.Blues, values_format = '.5g')\n",
    "plt.grid(False)\n",
    "plt.savefig('Visualizations/DT.png', bbox_inches = 'tight')\n",
    "plt.show()"
   ]
  },
  {
   "cell_type": "markdown",
   "id": "29f54894",
   "metadata": {},
   "source": [
    "As we can see here, the best decision tree model is slightly worse than the logistic regression model, and better than our best kNN model, at a recall score of .68."
   ]
  },
  {
   "cell_type": "markdown",
   "id": "25ee7165",
   "metadata": {},
   "source": [
    "# Section 5: Results\n",
    "\n",
    "### Best Model"
   ]
  },
  {
   "cell_type": "markdown",
   "id": "dad583b9",
   "metadata": {},
   "source": [
    "The logistic regression model is our best model, at a recall of around .771. Now, I will take a look at the remaining metrics."
   ]
  },
  {
   "cell_type": "code",
   "execution_count": 90,
   "id": "b2b6b096",
   "metadata": {
    "scrolled": false
   },
   "outputs": [
    {
     "name": "stdout",
     "output_type": "stream",
     "text": [
      "Training Data Results:\n",
      "\n",
      "              precision    recall  f1-score   support\n",
      "\n",
      "         0.0       0.79      0.80      0.79     82693\n",
      "         1.0       0.80      0.78      0.79     82693\n",
      "\n",
      "    accuracy                           0.79    165386\n",
      "   macro avg       0.79      0.79      0.79    165386\n",
      "weighted avg       0.79      0.79      0.79    165386\n",
      "\n",
      "\n",
      "Test Data Results:\n",
      "\n",
      "              precision    recall  f1-score   support\n",
      "\n",
      "         0.0       0.92      0.79      0.85     27623\n",
      "         1.0       0.52      0.77      0.62      7926\n",
      "\n",
      "    accuracy                           0.79     35549\n",
      "   macro avg       0.72      0.78      0.74     35549\n",
      "weighted avg       0.83      0.79      0.80     35549\n",
      "\n"
     ]
    }
   ],
   "source": [
    "# Checking our our train and test data metrics\n",
    "\n",
    "final_test = lr_gridsearch.predict(X_test)\n",
    "final_train = lr_gridsearch.predict(X_train_resampled)\n",
    "\n",
    "print(\"Training Data Results:\\n\")\n",
    "print(classification_report(y_train_resampled, final_train))\n",
    "print(\"\\nTest Data Results:\\n\")\n",
    "print(classification_report(y_test, final_test))"
   ]
  },
  {
   "cell_type": "code",
   "execution_count": 91,
   "id": "404e8555",
   "metadata": {
    "scrolled": false
   },
   "outputs": [
    {
     "name": "stdout",
     "output_type": "stream",
     "text": [
      "\n",
      "AUC: 0.865517759581673\n"
     ]
    },
    {
     "data": {
      "image/png": "[encoded data removed]",
      "text/plain": [
       "<Figure size 720x576 with 1 Axes>"
      ]
     },
     "metadata": {},
     "output_type": "display_data"
    }
   ],
   "source": [
    "# Creating ROC curve to see effectiveness of model.\n",
    "\n",
    "y_score = lr_gridsearch.decision_function(X_test)\n",
    "\n",
    "fpr, tpr, thresholds = roc_curve(y_test, y_score)\n",
    "\n",
    "sns.set_style('darkgrid', {'axes.facecolor': '0.9'})\n",
    "\n",
    "print('\\nAUC: {}'.format(auc(fpr, tpr)))\n",
    "plt.figure(figsize=(10, 8))\n",
    "lw = 2\n",
    "plt.plot(fpr, tpr, color='darkorange',\n",
    "         lw=lw, label='ROC curve')\n",
    "plt.plot([0, 1], [0, 1], color='navy', lw=lw, linestyle='--')\n",
    "plt.xlim([0.0, 1.0])\n",
    "plt.ylim([0.0, 1.05])\n",
    "plt.yticks([i/20.0 for i in range(21)])\n",
    "plt.xticks([i/20.0 for i in range(21)])\n",
    "plt.xlabel('False Positive Rate')\n",
    "plt.ylabel('True Positive Rate')\n",
    "plt.title('Receiver operating characteristic (ROC) Curve')\n",
    "plt.legend(loc='lower right')\n",
    "plt.savefig('Visualizations/AUC.png', bbox_inches = 'tight')\n",
    "plt.show()"
   ]
  },
  {
   "cell_type": "code",
   "execution_count": 92,
   "id": "49599af2",
   "metadata": {},
   "outputs": [
    {
     "data": {
      "image/png": "[encoded data removed]",
      "text/plain": [
       "<Figure size 432x288 with 2 Axes>"
      ]
     },
     "metadata": {},
     "output_type": "display_data"
    }
   ],
   "source": [
    "# Create confusion matrix for final model \n",
    "lrcm = confusion_matrix(y_test, final_test)\n",
    "sns.set_context(\"talk\")\n",
    "sns.set_theme(style='darkgrid')\n",
    "ax = sns.heatmap(lrcm, annot=True, cmap='Blues',fmt = 'g',linewidth=0.3, cbar_kws={\"shrink\": .8})\n",
    "\n",
    "ax.set_title('Results for Next-Day Rain Predictions\\n');\n",
    "ax.set_xlabel('\\nPredicted Values')\n",
    "ax.set_ylabel('Actual Values\\n');\n",
    "\n",
    "## Ticket labels - List must be in alphabetical order\n",
    "ax.xaxis.set_ticklabels([\"Didn't Rain\",\"Rained\"])\n",
    "ax.yaxis.set_ticklabels([\"Didn't Rain\",\"Rained\"])\n",
    "plt.savefig('Visualizations/FinalCM.png', bbox_inches = 'tight')\n",
    "## Display the visualization of the Confusion Matrix.\n",
    "plt.show()"
   ]
  },
  {
   "cell_type": "markdown",
   "id": "8e0eae8b",
   "metadata": {},
   "source": [
    "Accuracy: This model has 79% accuracy, meaning that it correctly determines that it will rain the next day 79% of the time. As True Negatives account for 77% of our test data, there is a lot of bias within this metric. Therefore, it is best to ignore it in our analysis.\n",
    "\n",
    "Precision: If our model says that it will rain tomorrow, there between a 52% chance that it is a true positive and will actually rain the next day. If our model says it wont rain tomorrow, there is a 92% chance that it won't rain tomorrow. The weighted average precision of our model is 83%. Our model is way better at predicting when it won't rain than when it will. In the future, we should take steps to try to raise precision.\n",
    "\n",
    "Recall: Our recall score is the most important aspect of this model. For instances when it actually rained the next day, our model correctly classified that it would rain 77% of the time. For instances when it did not rain the next day, our model correctly predicted that it would not rain 79% of the time. The weighted average recall of our model is 79%. \n",
    "\n",
    "Our AUC Score is .86. That means that our classifiers have an 86% true positive rate."
   ]
  }
 ],
 "metadata": {
  "kernelspec": {
   "display_name": "Python [conda env:learn-env] *",
   "language": "python",
   "name": "conda-env-learn-env-py"
  },
  "language_info": {
   "codemirror_mode": {
    "name": "ipython",
    "version": 3
   },
   "file_extension": ".py",
   "mimetype": "text/x-python",
   "name": "python",
   "nbconvert_exporter": "python",
   "pygments_lexer": "ipython3",
   "version": "3.6.9"
  }
 },
 "nbformat": 4,
 "nbformat_minor": 5
}
